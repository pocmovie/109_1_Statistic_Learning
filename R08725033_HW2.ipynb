{
 "cells": [
  {
   "cell_type": "markdown",
   "metadata": {},
   "source": [
    "### 統計學習與深度學習\n",
    "### Homework 2\n",
    "R08725033 資管碩二 陳柏勳"
   ]
  },
  {
   "cell_type": "markdown",
   "metadata": {},
   "source": [
    "### 第一題 [Data Preprocessing]\n",
    "本題依序進行以下操作（處理）：\n",
    "* 使用Pandas讀入UCI dataset的train和test資料集\n",
    "* 處理NAN，還有文件中提及的\"?\"等缺漏值\n",
    "* 轉換50k to 0 and 1\n",
    "* 將test和train暫時合併，以進行一致的標準化。針對num_col透過sklearn的StandardScaler進行標準化；對cat_col使用pandas的get_dummies進行1-of-k的encoding，並丟棄整列中出現少於10個觀察值的列。\n",
    "* 和adult50kp['columnname']進行對齊，並將label列指定成y值\n",
    "* 藉由train.index的長度還原回train/ test\n",
    "* 最後轉換成numpy的資料型態"
   ]
  },
  {
   "cell_type": "code",
   "execution_count": 1,
   "metadata": {},
   "outputs": [],
   "source": [
    "# https://machinelearningmastery.com/load-machine-learning-data-python/\n",
    "import pandas as pd\n",
    "from sklearn import preprocessing\n",
    "import pickle\n",
    "import numpy as np\n",
    "\n",
    "names = ['age', 'workclass', 'fnlwgt', 'education', 'educational-num', 'marital-status', 'occupation', 'relationship'\n",
    "         , 'race', 'gender', 'capital-gain', 'capital-loss', 'hours-per-week', 'native-country', 'label']\n",
    "train = pd.read_csv('adult.data', names=names, sep=', ', engine='python')\n",
    "test = pd.read_csv('adult.test', names=names, sep=', ', engine='python')\n",
    "\n",
    "# pd.isna(train).any()\n",
    "train.dropna()\n",
    "# pd.isna(test).any()\n",
    "test.dropna()\n",
    "\n",
    "# Convert Unknown to \"?\", so remove it.\n",
    "# https://stackoverflow.com/questions/36620175/futurewarning-elementwise-comparison-failed-returning-scalar-instead\n",
    "train = train[(train.astype(str) != '?').all(axis=1)] # All feature isn't ? in the row, reduce columns\n",
    "test = test[(test.astype(str) != '?').all(axis=1)]\n",
    "\n",
    "# len(train): 32561 to 30162\n",
    "\n",
    "# Transfer label to 1 and 0\n",
    "# https://blog.csdn.net/xueruixuan/article/details/80237481\n",
    "train.loc[:,'label'] = train.loc[:,'label'].map({'>50K':1, '<=50K':0})\n",
    "test.loc[:,'label'] = test.loc[:,'label'].map({'>50K.':1, '<=50K.':0})\n",
    "\n",
    "num_col = ['age', 'fnlwgt', 'educational-num', 'capital-gain', 'capital-loss', 'hours-per-week']\n",
    "cat_col = ['workclass', 'education', 'marital-status', 'occupation', 'relationship', 'race', 'gender', 'native-country']\n",
    "\n",
    "# Use all data to normalize, make sure the meaning is same\n",
    "all_data = pd.concat([train, test], axis=0)\n",
    "\n",
    "# Normalize num data\n",
    "xscaler = preprocessing.StandardScaler().fit(all_data.loc[:,num_col])\n",
    "all_data.loc[:,num_col] = xscaler.transform(all_data.loc[:,num_col])\n",
    "\n",
    "# https://medium.com/@PatHuang/%E5%88%9D%E5%AD%B8python%E6%89%8B%E8%A8%98-3-%E8%B3%87%E6%96%99%E5%89%8D%E8%99%95%E7%90%86-label-encoding-one-hot-encoding-85c983d63f87\n",
    "all_data = pd.get_dummies(all_data, columns = cat_col)\n",
    "\n",
    "# https://www.delftstack.com/zh-tw/howto/python-pandas/how-to-get-the-sum-of-pandas-column/\n",
    "for c in all_data.columns:\n",
    "    if all_data[c].sum()>=1 and all_data[c].sum()<10:\n",
    "        all_data = all_data.drop(c,axis=1)\n",
    "        \n",
    "'''\n",
    "Align with the order in adult_m50k.pickle\n",
    "'''\n",
    "dsfile = 'adult_m50k.pickle'\n",
    "with open(dsfile, 'rb') as fh1:\n",
    "    adult50kp = pickle.load(fh1)\n",
    "    \n",
    "# Align it\n",
    "all_data_sort = all_data.loc[:,adult50kp['columnname']]\n",
    "\n",
    "# Split to x and y\n",
    "all_y = all_data.loc[:,'label']\n",
    "\n",
    "# Split to train and test\n",
    "x_train = all_data_sort.iloc[:len(train.index),:]\n",
    "x_test = all_data_sort.iloc[len(train.index):,:]\n",
    "y_train = all_y[:len(train.index)]\n",
    "y_test = all_y[len(train.index):]\n",
    "\n",
    "# To numpy\n",
    "x_train = x_train.to_numpy()\n",
    "x_test = x_test.to_numpy()\n",
    "y_train = y_train.to_numpy()\n",
    "y_test = y_test.to_numpy()"
   ]
  },
  {
   "cell_type": "code",
   "execution_count": 2,
   "metadata": {},
   "outputs": [
    {
     "name": "stdout",
     "output_type": "stream",
     "text": [
      "x_train match!\n",
      "x_test match!\n",
      "y_train match!\n",
      "y_test match!\n"
     ]
    }
   ],
   "source": [
    "elems = ['x_train', 'x_test', 'y_train', 'y_test']\n",
    "\n",
    "for aelem in elems:\n",
    "    cnomatch = np.sum(adult50kp[aelem] != adult50kp[aelem])\n",
    "    if cnomatch == 0:\n",
    "        print(aelem, \"match!\")\n",
    "    else:\n",
    "        print(aelem, \"%d elements no match!\" % cnomatch)"
   ]
  },
  {
   "cell_type": "markdown",
   "metadata": {},
   "source": [
    "前處理完後的結果，和題目提供的\"adult_m50k.pickle\"吻合。"
   ]
  },
  {
   "cell_type": "markdown",
   "metadata": {},
   "source": [
    "### 第二題 [ROC and AUC]"
   ]
  },
  {
   "cell_type": "code",
   "execution_count": 1,
   "metadata": {},
   "outputs": [
    {
     "name": "stdout",
     "output_type": "stream",
     "text": [
      "Accuracy = 0.848340\n"
     ]
    }
   ],
   "source": [
    "import pickle\n",
    "from sklearn.linear_model import LogisticRegression\n",
    "import numpy as np\n",
    "import matplotlib.pyplot as plt\n",
    "\n",
    "plt.style.use('fivethirtyeight')\n",
    "\n",
    "%matplotlib inline\n",
    "\n",
    "# load dataset\n",
    "dsfile = 'adult_m50k.pickle'\n",
    "with open(dsfile, 'rb') as fh1:\n",
    "    adult50kp = pickle.load(fh1)\n",
    "    \n",
    "#train prediction model    \n",
    "c = 0.3\n",
    "lr2 = LogisticRegression(solver = 'lbfgs', C= c, max_iter = 1000)\n",
    "lr2.fit(adult50kp['x_train'], adult50kp['y_train'])\n",
    "#make prediction\n",
    "ypred = lr2.predict(adult50kp['x_test'])\n",
    "ypredprob = lr2.predict_proba(adult50kp['x_test'])\n",
    "#compute accuracy\n",
    "ncorrect = np.sum(adult50kp['y_test'] == ypred)\n",
    "accuracy_sk = ncorrect / adult50kp['y_test'].shape[0]\n",
    "print(\"Accuracy = %f\" % accuracy_sk)   "
   ]
  },
  {
   "cell_type": "markdown",
   "metadata": {},
   "source": [
    "* Q2.1 (17.5%): 基於`adult50kp['y_test']`與`ypredprob`繪製ROC Curve。"
   ]
  },
  {
   "cell_type": "markdown",
   "metadata": {},
   "source": [
    "本題依序進行以下操作（處理）：\n",
    "* 以0.01為間距，計算threshold自p=0~1（每次提高0.01）的TPR和FPR\n",
    "* 再和亂猜的45度角線進行比較"
   ]
  },
  {
   "cell_type": "code",
   "execution_count": 30,
   "metadata": {},
   "outputs": [
    {
     "data": {
      "text/plain": [
       "<matplotlib.legend.Legend at 0x23d86371088>"
      ]
     },
     "execution_count": 30,
     "metadata": {},
     "output_type": "execute_result"
    },
    {
     "data": {
      "image/png": "[encoded data removed]",
      "text/plain": [
       "<Figure size 720x720 with 1 Axes>"
      ]
     },
     "metadata": {
      "needs_background": "light"
     },
     "output_type": "display_data"
    }
   ],
   "source": [
    "# p = 0, TP = TP + FN, FP = FP + TN (All positive)\n",
    "TPR = [1]\n",
    "FPR = [1]\n",
    "\n",
    "for p in range(0, 100):\n",
    "    \n",
    "    TP = 0\n",
    "    FP = 0\n",
    "    FN = 0\n",
    "    TN = 0\n",
    "    \n",
    "    for i in range(len(ypredprob)):\n",
    "        if ypredprob[i][0] > p/100 and adult50kp['y_test'][i]==0:\n",
    "            TP += 1\n",
    "        elif ypredprob[i][0] > p/100 and adult50kp['y_test'][i]==1:\n",
    "            FP += 1\n",
    "        elif ypredprob[i][0] < p/100 and adult50kp['y_test'][i]==0:\n",
    "            FN += 1\n",
    "        else:\n",
    "            TN += 1\n",
    "    \n",
    "    TPR.append(TP/(TP+FN))\n",
    "    FPR.append(FP/(FP+TN))\n",
    "\n",
    "# p = 1, TP = 0, FP = 0 (All negative)\n",
    "TPR.append(0)\n",
    "FPR.append(0)\n",
    "\n",
    "# https://machinelearningmastery.com/roc-curves-and-precision-recall-curves-for-classification-in-python/\n",
    "plt.figure(figsize=(10, 10))\n",
    "plt.plot(FPR, TPR, label='Logistic')\n",
    "plt.plot([0,1], [0,1], linestyle='--', label='No Skill')\n",
    "plt.xlabel('False Positive Rate')\n",
    "plt.ylabel('True Positive Rate')\n",
    "plt.legend()"
   ]
  },
  {
   "cell_type": "markdown",
   "metadata": {},
   "source": [
    "由ROC Curve可知，本題給定的模型\"Reasonable separation between the classes, mostly convex.\" Ex. 在TPR = 0.8時，FPR處在約莫0.18的不錯表現。"
   ]
  },
  {
   "cell_type": "markdown",
   "metadata": {},
   "source": [
    "* Q2.2 (17.5%): 計算繪製出的ROC Curve的AUC。"
   ]
  },
  {
   "cell_type": "markdown",
   "metadata": {},
   "source": [
    "依照題目給定的梯形公式，使用上一題的資料點（TPR, FPR），以0.01為尺度由p=1計算至p=0，求出近似的AUC。"
   ]
  },
  {
   "cell_type": "code",
   "execution_count": 43,
   "metadata": {},
   "outputs": [
    {
     "name": "stdout",
     "output_type": "stream",
     "text": [
      "AUC =  0.903160913113818\n"
     ]
    }
   ],
   "source": [
    "AUC = 0\n",
    "\n",
    "# Right top to left bottom, Make sure FPR and TPR[i-1] > [i]\n",
    "for i in range(1, len(TPR)-1):\n",
    "    height = (TPR[i]+TPR[i-1])/2\n",
    "    width = FPR[i-1]-FPR[i]\n",
    "    area = height*width\n",
    "    AUC += area\n",
    "\n",
    "print(\"AUC = \", AUC)"
   ]
  },
  {
   "cell_type": "markdown",
   "metadata": {},
   "source": [
    "模型的AUC約為0.903，擁有不錯的表現。"
   ]
  },
  {
   "cell_type": "markdown",
   "metadata": {},
   "source": [
    "### 第三題 [Logistic Regression with L2 Regularization]"
   ]
  },
  {
   "cell_type": "markdown",
   "metadata": {},
   "source": [
    "* Q1.1 (15%) Derive the gradient and hessian matrix for the new E(w). \n",
    "\n",
    "Origin $E(w) = \\frac{\\lambda}{2} w^T w - \\sum_{i=1}^n [ t_i \\ln y_i  + (1 - t_i) \\ln (1 - y_i)],$  \n",
    "\n",
    "New $E(w) = \\frac{1}{2} w^T \\Lambda w - \\sum_{i=1}^n [ t_i \\ln y_i  + (1 - t_i) \\ln (1 - y_i)],$  \n",
    "where $y_i = \\frac{1}{1 + exp({-w^T x_i})}$."
   ]
  },
  {
   "cell_type": "markdown",
   "metadata": {},
   "source": [
    "#### Gradient Matrix\n",
    "針對新的 $E(w)$ 求 $\\frac{dE(w)}{dw}$  \n",
    "\n",
    "由於新舊兩式不同的地方為 $\\lambda$ to $\\Lambda$，因此代換原本的Gradient Matrix公式：\n",
    "\n",
    "$\\frac{dE(w)}{dw} = \\sum_{i=1}^n (y_i- t_i)x_i + \\lambda w$ to  \n",
    "\n",
    "$\\frac{dE(w)}{dw} = \\sum_{i=1}^n (y_i- t_i)x_i + \\Lambda w$,  \n",
    "where $y_i = \\frac{1}{1 + exp({-w^T x_i})}$."
   ]
  },
  {
   "cell_type": "markdown",
   "metadata": {},
   "source": [
    "#### Hessian Matrix\n",
    "Hessian為 $E(w)$ 的二階導數，因此便是對Gradient在進行一次偏微分：  \n",
    "\n",
    "$\\frac{dGradient}{dw} = \\sum_{i=1}^n y_n(1 - y_n)x_i x_i^T + \\Lambda I$,  \n",
    "where $y_i = \\frac{1}{1 + exp({-w^T x_i})}$."
   ]
  },
  {
   "cell_type": "markdown",
   "metadata": {},
   "source": [
    "* Q1.2 (25%) Create your mylogistic_l2 class. Train your model and show the learned $w$ as well as test accuracy for the cases below. If $w$ is too long for you, show selected $w$ for continuous-valued, binary-valued, and the constant term.  \n",
    "  * 依照公式計算Error, Gradient和Hessian，並持續更新w直至進步幅度小於10^-5\n",
    "  * add_intercept決定是否加intercept項"
   ]
  },
  {
   "cell_type": "code",
   "execution_count": 4,
   "metadata": {},
   "outputs": [],
   "source": [
    "import numpy as np\n",
    "\n",
    "class mylogistic_l2():\n",
    "    def __init__(self, reg_vec, max_iter = 100, tol = 1e-5, add_intercept = True):\n",
    "        \"\"\"reg_vec: the regularization coefficient vector\n",
    "           max_iter: maximum number of iteration to run for the Newton method\n",
    "           tol: tolerance for the objective function\n",
    "           add_intercept: whether to add intercept (a column of ones) at last column of the feature matrix\"\"\"\n",
    "        ### Add your code here\n",
    "        self.reg_vec = reg_vec\n",
    "        self.max_iter = max_iter\n",
    "        self.tol = tol\n",
    "        self.add_intercept = add_intercept\n",
    "        \n",
    "    def error(self, w, x, t, lambda_vec):\n",
    "        # error function\n",
    "        error_f = np.dot(np.dot(w.T, np.diag(lambda_vec)), w)\n",
    "        for i in range(x.shape[0]):\n",
    "            y_i = 1/(1+np.exp(-1*np.dot(w.T,x[i,:])))\n",
    "            error_f -= (np.dot(t[i], np.log(y_i)) + np.dot(1-t[i], np.log(1-y_i)))\n",
    "        \n",
    "        return error_f\n",
    "        \n",
    "    def gradient(self, w, x, t, lambda_vec):\n",
    "        # Compute y\n",
    "        y = []\n",
    "        for i in range(x.shape[0]):\n",
    "            y_i = 1/(1+np.exp(-1*np.dot(w.T,x[i,:])))\n",
    "            y.append(y_i)\n",
    "        \n",
    "        # Compute gradient matrix, lambda_mat is a diagonal matrix (1d to 2d)\n",
    "        gradient_mat = np.dot(np.diag(lambda_vec), w) + np.dot(x.T, np.array(y)-t)\n",
    "        return gradient_mat\n",
    "        \n",
    "    def hessian(self, w, x, t, lambda_vec):\n",
    "        # Compute y\n",
    "        y = []\n",
    "        for i in range(x.shape[0]):\n",
    "            y_i = 1/(1+np.exp(-1*np.dot(w.T,x[i,:])))\n",
    "            y.append(y_i)\n",
    "        \n",
    "        # Compute Hessian matrix\n",
    "        R = np.diag(np.array(y)*(1-np.array(y))) # 1D to 2D\n",
    "        hessian_mat = np.dot(np.dot(x.T, R), x) + np.diag(lambda_vec)\n",
    "        return hessian_mat\n",
    "\n",
    "    def fit(self, x, y, verbal = False):\n",
    "        #Add your code here\n",
    "        if self.add_intercept==True:\n",
    "            x = np.c_[x, np.ones(len(x[:,0]))]\n",
    "        \n",
    "        # Initialize w by ridge\n",
    "        b = np.average(self.reg_vec) # Set b to the average of lambda_i\n",
    "        n, m = x.shape\n",
    "        I = np.identity(m) # m*m unit matrix\n",
    "        w_init = np.dot(np.dot(np.linalg.inv(np.dot(x.T, x)+ b * I), x.T), y)\n",
    "        #w_init=np.linalg.inv(np.dot(x.T,x)+np.dot(np.average(self.reg_vec),np.identity(len(self.reg_vec))))\n",
    "        #w_init=np.dot(np.dot(w_init,x.T),y)\n",
    "        w_old = w_init\n",
    "        \n",
    "        for i in range(self.max_iter):\n",
    "            w_new = w_old - np.dot(np.linalg.inv(self.hessian(w_old, x, y, self.reg_vec)), \n",
    "                                   self.gradient(w_old, x, y, self.reg_vec))\n",
    "            \n",
    "            if self.error(w_old, x, y, self.reg_vec)-self.error(w_new, x, y, self.reg_vec) < self.tol:\n",
    "                self.w_new = w_new\n",
    "                return(self.error(w_new, x, y, self.reg_vec))\n",
    "                break\n",
    "                \n",
    "            w_old = w_new\n",
    "                        \n",
    "        self.w_new = w_new\n",
    "        return(self.error(w_new, x, y, self.reg_vec))\n",
    "        \n",
    "    def predict(self, x):\n",
    "        \"\"\"doing prediction\"\"\"\n",
    "        ### add your code here.\n",
    "        if self.add_intercept==True:\n",
    "            x = np.c_[x, np.ones(len(x[:,0]))]\n",
    "        \n",
    "        y_pred = []\n",
    "        for i in range(x.shape[0]):\n",
    "            if 1/(1+np.exp(-1*np.dot(self.w_new.T,x[i,:]))) >= 0.5:\n",
    "                y_pred.append(1)\n",
    "            else:\n",
    "                y_pred.append(0)\n",
    "        return(y_pred)"
   ]
  },
  {
   "cell_type": "markdown",
   "metadata": {},
   "source": [
    "* Case 1: lambda = 1 for all coefficients\n",
    "  * 此case lambda = 1 * 102 (x_len) + 1"
   ]
  },
  {
   "cell_type": "code",
   "execution_count": 2,
   "metadata": {},
   "outputs": [],
   "source": [
    "import pickle\n",
    "\n",
    "dsfile = 'adult_m50k.pickle'\n",
    "with open(dsfile, 'rb') as fh1:\n",
    "    adult50kp = pickle.load(fh1)\n",
    "    \n",
    "x_train = adult50kp['x_train']\n",
    "x_test = adult50kp['x_test']\n",
    "y_train = adult50kp['y_train']\n",
    "y_test = adult50kp['y_test']"
   ]
  },
  {
   "cell_type": "code",
   "execution_count": 3,
   "metadata": {},
   "outputs": [
    {
     "name": "stdout",
     "output_type": "stream",
     "text": [
      "[ 2.58310267e-01  3.52949941e-01  2.33388229e+00  7.51143107e-01\n",
      "  3.33523230e-01  7.92367972e-02 -2.59273002e-01 -3.32546362e-02\n",
      " -8.02115295e-01 -1.16297688e+00 -1.57626822e-01  1.06977081e+00\n",
      " -6.33835615e-01  1.16742579e-01 -2.31557179e-01 -5.17113645e-01\n",
      " -7.97119588e-02 -1.09947130e+00 -2.46004516e-01  6.19683549e-02\n",
      "  1.26684041e-01  8.62652911e-01 -9.18352388e-01 -6.21226084e-01\n",
      " -2.00741128e-01 -7.51599172e-01 -1.61005486e+00  5.75818357e-01\n",
      "  6.48992928e-01  3.53740082e-01  7.17215427e-01 -2.84510473e-02\n",
      " -9.54674548e-04 -1.96537318e-01 -1.46346365e-01  6.26952647e-01\n",
      "  4.48206612e-01  2.45949673e-02  4.69218852e-02 -4.91061895e-01\n",
      " -2.03031968e-01 -1.63299787e-01 -1.76576305e-02 -1.11326007e-01\n",
      " -9.94564583e-02 -1.17391707e+00  1.80705584e-01 -6.92683372e-02\n",
      "  9.76497834e-01  4.60990261e-01 -4.95446775e-01 -1.27203068e+00\n",
      "  4.86773385e-01 -8.98962575e-01 -6.00485296e-02 -3.50844313e-01\n",
      "  4.32817972e-01  5.94123037e-01  5.82152577e-01 -6.20957628e-01\n",
      " -5.97456648e-02  9.29048861e-02 -1.51891154e-01 -5.38586869e-03\n",
      "  3.41626371e-02 -2.89083156e-01  1.56053051e-01  4.95403500e-01\n",
      "  8.90941964e-01  1.49151416e-01  3.42481919e-01 -3.13311551e-01\n",
      " -3.55933691e-01 -3.62495387e-01 -6.67247499e-01 -4.08830456e-01\n",
      "  4.47491378e-01  1.37772027e-01  1.41352445e-01 -1.16013791e-01\n",
      " -5.61033701e-02 -9.34582476e-01 -2.92565888e-02 -2.99012002e-01\n",
      " -1.50511724e-01  3.52333045e-01 -7.85850310e-01  5.80201627e-01\n",
      "  4.97049260e-01 -1.90312209e-01 -3.40039918e-04  1.75002411e-01\n",
      " -4.88193872e-01 -3.12251930e-01 -1.02642944e+00 -7.22257752e-01\n",
      "  1.44662468e+00  1.15508166e+00 -6.80148985e-01 -1.21189369e+00\n",
      " -7.98285791e-01 -5.34595942e-01 -1.34547582e+00]\n",
      "Accuracy: 0.847875166002656\n"
     ]
    }
   ],
   "source": [
    "lambda_vec_1 = [1]*(len(x_train[0,:])+1)\n",
    "logic1 = mylogistic_l2(reg_vec = lambda_vec_1, max_iter = 1000, tol = 1e-5, add_intercept = True)\n",
    "logic1.fit(x_train, y_train)\n",
    "ypred = logic1.predict(x_test)\n",
    "Accuracy = 0\n",
    "for i in range(len(ypred)):\n",
    "    if ypred[i] == y_test[i]:\n",
    "        Accuracy += 1\n",
    "print(logic1.w_new)\n",
    "print(\"Accuracy:\", Accuracy/len(ypred))"
   ]
  },
  {
   "cell_type": "markdown",
   "metadata": {},
   "source": [
    "w如上列，Accuracy約為0.8479"
   ]
  },
  {
   "cell_type": "markdown",
   "metadata": {},
   "source": [
    "* Case 2: lambda = 1 for all but the intercept, no regularization for intercept term.\n",
    "  * 此case lambda = 1 * 102 (x_len) + 0"
   ]
  },
  {
   "cell_type": "code",
   "execution_count": 5,
   "metadata": {},
   "outputs": [
    {
     "name": "stdout",
     "output_type": "stream",
     "text": [
      "[ 0.25833013  0.35307192  2.33346275  0.73787398  0.33384981  0.07926879\n",
      " -0.04216849  0.19971188 -0.5836399  -0.93640484  0.07532238  1.28717898\n",
      " -0.37140237  0.394229    0.04305765 -0.26147417  0.19558989 -0.42695568\n",
      "  0.42695568  0.16423976  0.22840151  0.96471795 -0.81744159 -0.5207484\n",
      " -0.09910763 -0.64944292 -1.55228423  0.6786728   0.75065755  0.45540527\n",
      "  0.81856369  0.07308318  0.07284368 -0.11752577 -0.06282719  0.67243027\n",
      "  0.50408421  0.08798878  0.11434698 -0.38483779 -0.10196335 -0.05145392\n",
      "  0.10741799 -0.01998044  0.01717662 -1.16567613  0.30082132  0.02715475\n",
      "  1.00831182  0.50210408 -0.45757466 -1.24002206  0.52780884 -0.86832678\n",
      " -0.02771015 -0.31412373  0.47343563  0.62981274  0.62405566 -0.58674712\n",
      " -0.02966932  0.12414431 -0.14376162  0.02434021  0.06216112 -0.24843622\n",
      "  0.1945919   0.52620612  0.93165429  0.18707549  0.3794967  -0.28749438\n",
      " -0.31136957 -0.33290724 -0.65117849 -0.38160138  0.48879119  0.17662376\n",
      "  0.1741034  -0.07343499 -0.03146614 -0.89846857  0.00653743 -0.27232552\n",
      " -0.12442223  0.39697125 -0.75319225  0.6106769   0.70543933  0.01790082\n",
      "  0.2090388   0.38274804 -0.27958048 -0.10453074 -0.93101577 -0.52637642\n",
      "  1.61387817  1.36721842 -0.49230267 -1.01487839 -0.60562784 -0.34191128\n",
      " -3.17496423]\n",
      "Accuracy: 0.8477423638778221\n"
     ]
    }
   ],
   "source": [
    "lambda_vec_2 = [1]*(len(x_train[0,:]))\n",
    "lambda_vec_2.append(0) # No regularization for intercept term\n",
    "logic2 = mylogistic_l2(reg_vec = lambda_vec_2, max_iter = 1000, tol = 1e-5, add_intercept = True)\n",
    "logic2.fit(x_train, y_train)\n",
    "ypred = logic2.predict(x_test)\n",
    "Accuracy = 0\n",
    "for i in range(len(ypred)):\n",
    "    if ypred[i] == y_test[i]:\n",
    "        Accuracy += 1\n",
    "print(logic2.w_new)\n",
    "print(\"Accuracy:\", Accuracy/len(ypred))"
   ]
  },
  {
   "cell_type": "markdown",
   "metadata": {},
   "source": [
    "w如上列，Accuracy約為0.8477，略低於case1"
   ]
  },
  {
   "cell_type": "markdown",
   "metadata": {},
   "source": [
    "* Case 3: lambda = 1 for numerical-valued features, lambda = 0.5 for binary-valued features, no regularization for intercept term.\n",
    "  * 由於Q1以對資料進行過排列，前六筆為numerical，後面的為binary\n",
    "  * 此case lambda = 1 * 6 + 0.5 * 96 (x_len - 6) + 0"
   ]
  },
  {
   "cell_type": "code",
   "execution_count": 20,
   "metadata": {},
   "outputs": [
    {
     "name": "stdout",
     "output_type": "stream",
     "text": [
      "[ 0.25851595  0.35333677  2.33560307  0.78258234  0.33439769  0.07940033\n",
      " -0.08343059  0.23288416 -0.59280783 -0.92213633  0.11118913  1.25430145\n",
      " -0.38299411  0.4129183   0.0413606  -0.26411541  0.19283063 -0.42890021\n",
      "  0.42890021  0.23627487  0.30013694  1.03802695 -0.75223416 -0.45348802\n",
      " -0.02698716 -0.58259968 -1.99977423  0.75120146  0.82688921  0.52823094\n",
      "  0.89481188  0.14502733  0.18251138 -0.02585207  0.00990666  0.89860666\n",
      "  0.68514484  0.23291936  0.24517739 -0.38362677 -0.0802979  -0.06493047\n",
      "  0.04537408  0.03742524 -0.01295035 -2.0936429   0.25764153  0.06659333\n",
      "  1.18749024  0.55059181 -0.47577685 -1.458417    0.58222262 -1.06277971\n",
      " -0.00956356 -0.31704111  0.52485313  0.73044944  0.67457113 -0.63623764\n",
      " -0.00966602  0.17339345 -0.23647419  0.03754353  0.10120979 -0.24678934\n",
      "  0.23800205  0.64228564  1.00566602  0.23258649  0.42266914 -0.35336364\n",
      " -0.29178225 -0.38125649 -0.96292148 -0.45008096  0.51298515  0.220197\n",
      "  0.22640438 -0.04989229 -0.01837094 -0.95953566  0.01656882 -0.32741505\n",
      " -0.14011767  0.42855865 -0.84477592  0.75121604  0.76670644  0.07638897\n",
      "  0.26824645  0.44314251 -0.22057982 -0.04631767 -1.28758688 -0.57180269\n",
      "  1.82485625  1.39603933 -0.54684633 -1.05886245 -0.65544642 -0.38793769\n",
      " -3.36246931]\n",
      "Accuracy: 0.847675962815405\n"
     ]
    }
   ],
   "source": [
    "lambda_vec_3 = [1]*(6)\n",
    "lambda_vec_3 = [*lambda_vec_3, *[0.5]*(len(x_train[0,:])-6)]\n",
    "lambda_vec_3.append(0)\n",
    "\n",
    "logic3 = mylogistic_l2(reg_vec = lambda_vec_3, max_iter = 1000, tol = 1e-5, add_intercept = True)\n",
    "logic3.fit(x_train, y_train)\n",
    "ypred = logic3.predict(x_test)\n",
    "Accuracy = 0\n",
    "for i in range(len(ypred)):\n",
    "    if ypred[i] == y_test[i]:\n",
    "        Accuracy += 1\n",
    "print(logic3.w_new)\n",
    "print(\"Accuracy:\", Accuracy/len(ypred))"
   ]
  },
  {
   "cell_type": "markdown",
   "metadata": {},
   "source": [
    "w如上列，Accuracy約為0.8477，略低於case1和case2"
   ]
  },
  {
   "cell_type": "markdown",
   "metadata": {},
   "source": [
    "* Q1.3 (10%) Further split the training data into subtraining (90%) and tuning (10%) to search for the best hyperparameters. Set the regularization coefficient for the constant term to zero. Allow different regularizations for continuous-valued and binary-valued features. Let $a_1$ and $a_2$ denote the regularization coefficients for continuous-valued and binary-valued features. Search the best $a_1$ and $a_2$ and report the test accuracy using the best hyper-parameters. You should follow the following procedure to search for the best hyperparameters. \n",
    "    1. Choose a set of grids among a reasonable range. For example, 10 grids in [0.01, 100]. \n",
    "    2. Conduct grid search with the constraint that $a_1 = a_2$. Record the best value $a_1^*$ and $a_2^*$.\n",
    "    3. Fix $a_1 = a_1^*$, and search $a_2$ for the best value, call the result the new $a_2^*$. \n",
    "    4. Fix $a_2 = a_2^*$, and search $a_1$ for the best value.\n",
    "    5. Report the selected $a_1$ and $a_2$.\n",
    "    6. Train a model using the selected hyper-parameters, and report the test accuracy.  "
   ]
  },
  {
   "cell_type": "markdown",
   "metadata": {},
   "source": [
    "* 依照題目的指引進行操作，首先以train-test-split將資料切成9:1，grids則用10^(1/9)次方約等於2.8，進行近似等比的切割。"
   ]
  },
  {
   "cell_type": "code",
   "execution_count": 16,
   "metadata": {},
   "outputs": [
    {
     "name": "stdout",
     "output_type": "stream",
     "text": [
      "a: 0.01 Accuracy: 0.8518395757374876\n",
      "a: 0.028 Accuracy: 0.8518395757374876\n",
      "a: 0.078 Accuracy: 0.8518395757374876\n",
      "a: 0.22 Accuracy: 0.8518395757374876\n",
      "a: 0.615 Accuracy: 0.8518395757374876\n",
      "a: 1.72 Accuracy: 0.8518395757374876\n",
      "a: 4.82 Accuracy: 0.8525024859131588\n",
      "a: 13.5 Accuracy: 0.8508452104739808\n",
      "a: 37.8 Accuracy: 0.8508452104739808\n",
      "a: 100 Accuracy: 0.8511766655618164\n"
     ]
    }
   ],
   "source": [
    "from sklearn.model_selection import train_test_split\n",
    "\n",
    "x_subtrain, x_tune, y_subtrain, y_tune = train_test_split(x_train, y_train, test_size=0.1, random_state=42)\n",
    "\n",
    "# Step 1\n",
    "grids = [0.01, 0.028, 0.078, 0.22, 0.615, 1.72, 4.82, 13.5, 37.8, 100] # 10000^(1/9) ~ 2.8\n",
    "\n",
    "# Step 2\n",
    "Accuracy = 0\n",
    "best_a = 0\n",
    "for a in grids:\n",
    "    lambda_vec=[a]*(len(x_subtrain[0,:]))\n",
    "    lambda_vec.append(0)\n",
    "    logic = mylogistic_l2(reg_vec = lambda_vec, max_iter = 1000, tol = 1e-5, add_intercept = True)\n",
    "    logic.fit(x_subtrain, y_subtrain)\n",
    "    \n",
    "    ypred = logic.predict(x_tune)\n",
    "    accu_temp = 0\n",
    "    for i in range(len(ypred)):\n",
    "        if ypred[i] == y_tune[i]:\n",
    "            accu_temp += 1\n",
    "            \n",
    "    if accu_temp > Accuracy:\n",
    "        Accuracy = accu_temp\n",
    "        best_a = a\n",
    "        \n",
    "    print(\"a:\", a, \"Accuracy:\", accu_temp/len(ypred))"
   ]
  },
  {
   "cell_type": "code",
   "execution_count": 19,
   "metadata": {},
   "outputs": [
    {
     "name": "stdout",
     "output_type": "stream",
     "text": [
      "a2: 0.01 Accuracy: 0.8521710308253232\n",
      "a2: 0.028 Accuracy: 0.8521710308253232\n",
      "a2: 0.078 Accuracy: 0.8521710308253232\n",
      "a2: 0.22 Accuracy: 0.8521710308253232\n",
      "a2: 0.615 Accuracy: 0.8525024859131588\n",
      "a2: 1.72 Accuracy: 0.8521710308253232\n",
      "a2: 4.82 Accuracy: 0.8525024859131588\n",
      "a2: 13.5 Accuracy: 0.8505137553861452\n",
      "a2: 37.8 Accuracy: 0.8508452104739808\n",
      "a2: 100 Accuracy: 0.8495193901226383\n"
     ]
    }
   ],
   "source": [
    "# Step 3\n",
    "Accuracy = 0\n",
    "best_a1 = best_a\n",
    "for a in grids:\n",
    "    lambda_vec = [best_a1]*(6)\n",
    "    lambda_vec = [*lambda_vec, *[a]*(len(x_train[0,:])-6)]\n",
    "    lambda_vec.append(0)\n",
    "    logic = mylogistic_l2(reg_vec = lambda_vec, max_iter = 1000, tol = 1e-5, add_intercept = True)\n",
    "    logic.fit(x_subtrain, y_subtrain)\n",
    "    \n",
    "    ypred = logic.predict(x_tune)\n",
    "    accu_temp = 0\n",
    "    for i in range(len(ypred)):\n",
    "        if ypred[i] == y_tune[i]:\n",
    "            accu_temp += 1\n",
    "            \n",
    "    if accu_temp > Accuracy:\n",
    "        Accuracy = accu_temp\n",
    "        best_a = a\n",
    "    \n",
    "    print(\"a2:\", a, \"Accuracy:\", accu_temp/len(ypred))"
   ]
  },
  {
   "cell_type": "code",
   "execution_count": 20,
   "metadata": {},
   "outputs": [
    {
     "name": "stdout",
     "output_type": "stream",
     "text": [
      "a1: 0.01 Accuracy: 0.8518395757374876\n",
      "a1: 0.028 Accuracy: 0.8518395757374876\n",
      "a1: 0.078 Accuracy: 0.8518395757374876\n",
      "a1: 0.22 Accuracy: 0.8518395757374876\n",
      "a1: 0.615 Accuracy: 0.8518395757374876\n",
      "a1: 1.72 Accuracy: 0.8518395757374876\n",
      "a1: 4.82 Accuracy: 0.8525024859131588\n",
      "a1: 13.5 Accuracy: 0.8525024859131588\n",
      "a1: 37.8 Accuracy: 0.8518395757374876\n",
      "a1: 100 Accuracy: 0.8501823002983095\n"
     ]
    }
   ],
   "source": [
    "# Step 4\n",
    "Accuracy = 0\n",
    "best_a2 = best_a\n",
    "for a in grids:\n",
    "    lambda_vec = [a]*(6)\n",
    "    lambda_vec = [*lambda_vec, *[best_a2]*(len(x_train[0,:])-6)]\n",
    "    lambda_vec.append(0)\n",
    "    logic = mylogistic_l2(reg_vec = lambda_vec, max_iter = 1000, tol = 1e-5, add_intercept = True)\n",
    "    logic.fit(x_subtrain, y_subtrain)\n",
    "    \n",
    "    ypred = logic.predict(x_tune)\n",
    "    accu_temp = 0\n",
    "    for i in range(len(ypred)):\n",
    "        if ypred[i] == y_tune[i]:\n",
    "            accu_temp += 1\n",
    "            \n",
    "    if accu_temp > Accuracy:\n",
    "        Accuracy = accu_temp\n",
    "        best_a = a\n",
    "    \n",
    "    print(\"a1:\", a, \"Accuracy:\", accu_temp/len(ypred))\n",
    "\n",
    "best_a1 = best_a"
   ]
  },
  {
   "cell_type": "code",
   "execution_count": 23,
   "metadata": {},
   "outputs": [
    {
     "name": "stdout",
     "output_type": "stream",
     "text": [
      "The best a1 is:  4.82\n",
      "The best a2 is:  0.615\n",
      "Accuracy: 0.847675962815405\n"
     ]
    }
   ],
   "source": [
    "# Step 5\n",
    "print(\"The best a1 is: \", best_a1)\n",
    "print(\"The best a2 is: \", best_a2)\n",
    "# Step 6\n",
    "lambda_vec = [best_a1]*(6)\n",
    "lambda_vec = [*lambda_vec, *[best_a2]*(len(x_train[0,:])-6)]\n",
    "lambda_vec.append(0)\n",
    "logic = mylogistic_l2(reg_vec = lambda_vec, max_iter = 1000, tol = 1e-5, add_intercept = True)\n",
    "logic.fit(x_train, y_train)\n",
    "ypred = logic.predict(x_test)\n",
    "Accuracy = 0\n",
    "for i in range(len(ypred)):\n",
    "    if ypred[i] == y_test[i]:\n",
    "        Accuracy += 1\n",
    "print(\"Accuracy:\", Accuracy/len(ypred))"
   ]
  },
  {
   "cell_type": "markdown",
   "metadata": {},
   "source": [
    "* 最好的a1為4.82，a2則是0.615，這時的tune accuracy約為0.853。\n",
    "* Accuracy約為0.8477，和case3一樣。"
   ]
  },
  {
   "cell_type": "markdown",
   "metadata": {},
   "source": [
    "* Q1.4 (5%) Use sklearn.linear_model.LogisticRegression to train and test the model (including hyperparameter tuning). Compare the estimated parameters and test accuracy with those from your own models. "
   ]
  },
  {
   "cell_type": "markdown",
   "metadata": {},
   "source": [
    "利用 sklearn.linear_model的LogisticRegressionCV（和LogisticRegression不同的點在於可以放入複數個C，即Cs），按Q3.1.3的步驟進行，唯\"Cs是lambda_vec的倒數（Inverse）\"。最終探討哪一個的tune accuracy最好，並與Q3.1.3比較。"
   ]
  },
  {
   "cell_type": "code",
   "execution_count": 15,
   "metadata": {},
   "outputs": [
    {
     "name": "stdout",
     "output_type": "stream",
     "text": [
      "a: 0.01 Accuracy: 0.8518395757374876\n",
      "a: 0.028 Accuracy: 0.8518395757374876\n",
      "a: 0.078 Accuracy: 0.8518395757374876\n",
      "a: 0.22 Accuracy: 0.8518395757374876\n",
      "a: 0.615 Accuracy: 0.8518395757374876\n",
      "a: 1.72 Accuracy: 0.8518395757374876\n",
      "a: 4.82 Accuracy: 0.8521710308253232\n",
      "a: 13.5 Accuracy: 0.8508452104739808\n",
      "a: 37.8 Accuracy: 0.8511766655618164\n"
     ]
    },
    {
     "name": "stderr",
     "output_type": "stream",
     "text": [
      "c:\\users\\user\\appdata\\local\\programs\\python\\python37\\lib\\site-packages\\sklearn\\linear_model\\_logistic.py:764: ConvergenceWarning: lbfgs failed to converge (status=2):\n",
      "ABNORMAL_TERMINATION_IN_LNSRCH.\n",
      "\n",
      "Increase the number of iterations (max_iter) or scale the data as shown in:\n",
      "    https://scikit-learn.org/stable/modules/preprocessing.html\n",
      "Please also refer to the documentation for alternative solver options:\n",
      "    https://scikit-learn.org/stable/modules/linear_model.html#logistic-regression\n",
      "  extra_warning_msg=_LOGISTIC_SOLVER_CONVERGENCE_MSG)\n",
      "c:\\users\\user\\appdata\\local\\programs\\python\\python37\\lib\\site-packages\\sklearn\\linear_model\\_logistic.py:764: ConvergenceWarning: lbfgs failed to converge (status=2):\n",
      "ABNORMAL_TERMINATION_IN_LNSRCH.\n",
      "\n",
      "Increase the number of iterations (max_iter) or scale the data as shown in:\n",
      "    https://scikit-learn.org/stable/modules/preprocessing.html\n",
      "Please also refer to the documentation for alternative solver options:\n",
      "    https://scikit-learn.org/stable/modules/linear_model.html#logistic-regression\n",
      "  extra_warning_msg=_LOGISTIC_SOLVER_CONVERGENCE_MSG)\n",
      "c:\\users\\user\\appdata\\local\\programs\\python\\python37\\lib\\site-packages\\sklearn\\linear_model\\_logistic.py:764: ConvergenceWarning: lbfgs failed to converge (status=2):\n",
      "ABNORMAL_TERMINATION_IN_LNSRCH.\n",
      "\n",
      "Increase the number of iterations (max_iter) or scale the data as shown in:\n",
      "    https://scikit-learn.org/stable/modules/preprocessing.html\n",
      "Please also refer to the documentation for alternative solver options:\n",
      "    https://scikit-learn.org/stable/modules/linear_model.html#logistic-regression\n",
      "  extra_warning_msg=_LOGISTIC_SOLVER_CONVERGENCE_MSG)\n",
      "c:\\users\\user\\appdata\\local\\programs\\python\\python37\\lib\\site-packages\\sklearn\\linear_model\\_logistic.py:764: ConvergenceWarning: lbfgs failed to converge (status=2):\n",
      "ABNORMAL_TERMINATION_IN_LNSRCH.\n",
      "\n",
      "Increase the number of iterations (max_iter) or scale the data as shown in:\n",
      "    https://scikit-learn.org/stable/modules/preprocessing.html\n",
      "Please also refer to the documentation for alternative solver options:\n",
      "    https://scikit-learn.org/stable/modules/linear_model.html#logistic-regression\n",
      "  extra_warning_msg=_LOGISTIC_SOLVER_CONVERGENCE_MSG)\n",
      "c:\\users\\user\\appdata\\local\\programs\\python\\python37\\lib\\site-packages\\sklearn\\linear_model\\_logistic.py:764: ConvergenceWarning: lbfgs failed to converge (status=2):\n",
      "ABNORMAL_TERMINATION_IN_LNSRCH.\n",
      "\n",
      "Increase the number of iterations (max_iter) or scale the data as shown in:\n",
      "    https://scikit-learn.org/stable/modules/preprocessing.html\n",
      "Please also refer to the documentation for alternative solver options:\n",
      "    https://scikit-learn.org/stable/modules/linear_model.html#logistic-regression\n",
      "  extra_warning_msg=_LOGISTIC_SOLVER_CONVERGENCE_MSG)\n",
      "c:\\users\\user\\appdata\\local\\programs\\python\\python37\\lib\\site-packages\\sklearn\\linear_model\\_logistic.py:764: ConvergenceWarning: lbfgs failed to converge (status=2):\n",
      "ABNORMAL_TERMINATION_IN_LNSRCH.\n",
      "\n",
      "Increase the number of iterations (max_iter) or scale the data as shown in:\n",
      "    https://scikit-learn.org/stable/modules/preprocessing.html\n",
      "Please also refer to the documentation for alternative solver options:\n",
      "    https://scikit-learn.org/stable/modules/linear_model.html#logistic-regression\n",
      "  extra_warning_msg=_LOGISTIC_SOLVER_CONVERGENCE_MSG)\n",
      "c:\\users\\user\\appdata\\local\\programs\\python\\python37\\lib\\site-packages\\sklearn\\linear_model\\_logistic.py:764: ConvergenceWarning: lbfgs failed to converge (status=2):\n",
      "ABNORMAL_TERMINATION_IN_LNSRCH.\n",
      "\n",
      "Increase the number of iterations (max_iter) or scale the data as shown in:\n",
      "    https://scikit-learn.org/stable/modules/preprocessing.html\n",
      "Please also refer to the documentation for alternative solver options:\n",
      "    https://scikit-learn.org/stable/modules/linear_model.html#logistic-regression\n",
      "  extra_warning_msg=_LOGISTIC_SOLVER_CONVERGENCE_MSG)\n"
     ]
    },
    {
     "name": "stdout",
     "output_type": "stream",
     "text": [
      "a: 100 Accuracy: 0.8511766655618164\n"
     ]
    }
   ],
   "source": [
    "# https://scikit-learn.org/stable/modules/generated/sklearn.linear_model.LogisticRegressionCV.html\n",
    "from sklearn.linear_model import LogisticRegressionCV\n",
    "\n",
    "# Step 2\n",
    "Accuracy = 0\n",
    "best_a = 0\n",
    "for a in grids:\n",
    "    lambda_vec=[a]*(len(x_subtrain[0,:]))\n",
    "    clf = LogisticRegressionCV(Cs = 1/np.array(lambda_vec), max_iter=1000, tol = 1e-5, fit_intercept = True)\n",
    "    clf.fit(x_subtrain, y_subtrain)\n",
    "    accu_temp = clf.score(x_tune, y_tune)\n",
    "    \n",
    "    if accu_temp > Accuracy:\n",
    "        Accuracy = accu_temp\n",
    "        best_a = a\n",
    "    \n",
    "    print(\"a:\", a, \"Accuracy:\", accu_temp)"
   ]
  },
  {
   "cell_type": "code",
   "execution_count": 17,
   "metadata": {},
   "outputs": [
    {
     "name": "stdout",
     "output_type": "stream",
     "text": [
      "a2: 0.01 Accuracy: 0.8518395757374876\n",
      "a2: 0.028 Accuracy: 0.8518395757374876\n",
      "a2: 0.078 Accuracy: 0.8518395757374876\n",
      "a2: 0.22 Accuracy: 0.8518395757374876\n",
      "a2: 0.615 Accuracy: 0.8518395757374876\n",
      "a2: 1.72 Accuracy: 0.8518395757374876\n",
      "a2: 4.82 Accuracy: 0.8521710308253232\n",
      "a2: 13.5 Accuracy: 0.8508452104739808\n",
      "a2: 37.8 Accuracy: 0.8518395757374876\n",
      "a2: 100 Accuracy: 0.8518395757374876\n"
     ]
    }
   ],
   "source": [
    "# Step 3\n",
    "Accuracy = 0\n",
    "best_a1 = best_a\n",
    "for a in grids:\n",
    "    lambda_vec = [best_a1]*(6)\n",
    "    lambda_vec = [*lambda_vec, *[a]*(len(x_train[0,:])-6)]\n",
    "    clf = LogisticRegressionCV(Cs = 1/np.array(lambda_vec), max_iter=1000, tol = 1e-5, fit_intercept = True)\n",
    "    clf.fit(x_subtrain, y_subtrain)\n",
    "    accu_temp = clf.score(x_tune, y_tune)\n",
    "            \n",
    "    if accu_temp > Accuracy:\n",
    "        Accuracy = accu_temp\n",
    "        best_a = a\n",
    "    \n",
    "    print(\"a2:\", a, \"Accuracy:\", accu_temp)"
   ]
  },
  {
   "cell_type": "code",
   "execution_count": 18,
   "metadata": {},
   "outputs": [
    {
     "name": "stdout",
     "output_type": "stream",
     "text": [
      "a1: 0.01 Accuracy: 0.8521710308253232\n",
      "a1: 0.028 Accuracy: 0.8525024859131588\n",
      "a1: 0.078 Accuracy: 0.8521710308253232\n",
      "a1: 0.22 Accuracy: 0.8525024859131588\n",
      "a1: 0.615 Accuracy: 0.8521710308253232\n",
      "a1: 1.72 Accuracy: 0.8521710308253232\n",
      "a1: 4.82 Accuracy: 0.8521710308253232\n",
      "a1: 13.5 Accuracy: 0.8521710308253232\n",
      "a1: 37.8 Accuracy: 0.8525024859131588\n",
      "a1: 100 Accuracy: 0.8525024859131588\n"
     ]
    }
   ],
   "source": [
    "# Step 4\n",
    "Accuracy = 0\n",
    "best_a2 = best_a\n",
    "for a in grids:\n",
    "    lambda_vec = [a]*(6)\n",
    "    lambda_vec = [*lambda_vec, *[best_a2]*(len(x_train[0,:])-6)]\n",
    "    clf = LogisticRegressionCV(Cs = 1/np.array(lambda_vec), max_iter=1000, tol = 1e-5, fit_intercept = True)\n",
    "    clf.fit(x_subtrain, y_subtrain)\n",
    "    accu_temp = clf.score(x_tune, y_tune)\n",
    "            \n",
    "    if accu_temp > Accuracy:\n",
    "        Accuracy = accu_temp\n",
    "        best_a = a\n",
    "    \n",
    "    print(\"a1:\", a, \"Accuracy:\", accu_temp)\n",
    "\n",
    "best_a1 = best_a"
   ]
  },
  {
   "cell_type": "code",
   "execution_count": 19,
   "metadata": {},
   "outputs": [
    {
     "name": "stdout",
     "output_type": "stream",
     "text": [
      "The best a1 is:  0.028\n",
      "The best a2 is:  0.028\n",
      "Accuracy 0.8476095617529881\n"
     ]
    }
   ],
   "source": [
    "# Step 5\n",
    "print(\"The best a1 is: \", best_a)\n",
    "print(\"The best a2 is: \", best_a)\n",
    "# Step 6\n",
    "clf = LogisticRegression(C = a, max_iter=1000, tol = 1e-5, fit_intercept = True)\n",
    "clf.fit(x_train, y_train)\n",
    "print('Accuracy', clf.score(x_test, y_test))"
   ]
  },
  {
   "cell_type": "markdown",
   "metadata": {},
   "source": [
    "* 最好的組合為a=0.028\n",
    "* 然而其Accuracy約等於0.8476，稍微劣於我們選出的參數。\n",
    "* Tune Accuracy差距有限，同樣的沒有其他依據進行挑選（挑前or挑後？）"
   ]
  },
  {
   "cell_type": "code",
   "execution_count": null,
   "metadata": {},
   "outputs": [],
   "source": []
  }
 ],
 "metadata": {
  "kernelspec": {
   "display_name": "Python 3",
   "language": "python",
   "name": "python3"
  },
  "language_info": {
   "codemirror_mode": {
    "name": "ipython",
    "version": 3
   },
   "file_extension": ".py",
   "mimetype": "text/x-python",
   "name": "python",
   "nbconvert_exporter": "python",
   "pygments_lexer": "ipython3",
   "version": "3.7.9"
  }
 },
 "nbformat": 4,
 "nbformat_minor": 4
}
