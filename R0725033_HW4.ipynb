{
 "cells": [
  {
   "cell_type": "markdown",
   "metadata": {
    "id": "1WNA1mgnamPz"
   },
   "source": [
    "### 統計學習與深度學習\n",
    "### Homework 4\n",
    "\n",
    "請將IPYNB檔上傳至COOL作業區。回答作業時建議使用 \"三明治\" 答題法。也就是說，先說明要做什麼，然後列出程式碼與結果，最後說明這些結果的意義。作業自己做。嚴禁抄襲。不接受紙本繳交，不接受遲交。請以英文或中文作答。\n",
    "\n",
    "#### Multilayer Perceptrons for Regression\n",
    "本次作業的主角是 Multilayer perceptrons (MLP)。我們將以MLP建構迴歸模型，探討各項相關議題。\n",
    "\n",
    "\n",
    "#### Dataset: Million Songs Dataset\n",
    "本次作業將使用\"Million Songs Dataset\"作為訓練與測試資料。請使用`pickle.load()`載入*msd_full.pickle*。這個資料集已經切割好了訓練與測試資料，並存放在一個Dictionary的結構。這個Dictionary有四個元素，x_train, y_train, x_test, y_test，分別對應到訓練特徵、訓練標記(Label)、測試特徵、測試標記。 標記變數 (label variable; i.e., $y$) 是歌曲發行年度。特徵為歌曲的聲音特性。迴歸任務為預測歌曲年分。\n",
    "\n",
    "#### Prediction Performance and Loss Function\n",
    "模型訓練應主要使用Sum of Squared Error (SSE)建構Loss Function，另外我們也會練習使用其他種類的Loss Function。為了讓圖表易於理解，不論Loss Function為何，報告預測能力應使用Root Mean Squared Error (RMSE)。使用SSE或RMSE建構Loss Function在本質上沒有差別。但SSE計算成本稍低，而RMSE較有直觀意義。\n",
    "\n",
    "\n",
    "#### Subtraining, Validation, and Test Datasets\n",
    "*msd_full.pickle* 檔案中的訓練資料已經隨機排序過。你應該使用訓練資料最後10%的資料做為Validation Set。其餘的前90%做為Subtraining Set。使用Subtraining Set來訓練資料，並以Validation Set作為參數調教與Early Stopping的依據。Test RMSE應使用測試資料計算得之。\n",
    "\n",
    "所有特徵應該標準化(均數為零，變異數為一)。標準化應該以訓練資料(注意不是Test Set or Subtraining Set)的統計量為之。標記變數(i.e., $y$)應將均數平移至0 (依照訓練資料的統計量)。標記變數的變異數不要調整。\n",
    "\n",
    "\n",
    "#### Minibatch, Epoch, and Early Stopping\n",
    "如果沒有特別說明，模型訓練時應以大小為1,000個資料點的Minibatch為之。模型使用一個Minibatch的資料更新參數之後稱為經歷了一個Batch。當所有Subtraining資料已經用來更新過模型參數，稱為經過了一個Epoch。\n",
    "\n",
    "模型訓練應使用Early Stopping決定最佳的模型。模型訓練時每100個Batch計算一次Training and Validation RMSE。如果Validation為歷史最低，則記下當下的模型參數與當時已進行的Batch數量，稱為best_step_count。如由best_step_count起算已經經過了5,000個Batch而沒有更好的Validation RMSE，則停止模型訓練，並以best_step_count時的模型參數做為最後的模型訓練結果。如果模型訓練最多執行100個epoch。如果模型已經執行了100個epoch而沒有Early Stop，則應使用歷史最佳的Validation RMSE所對應到的模型參數計算Test RMSE。\n",
    "\n",
    "\n",
    "#### Implementation Restriction\n",
    "使用Pytorch建構MLP模型。Ordinary Least Square (OLS)模型訓練沒有限制使用何種套件。\n",
    "\n",
    "#### 資料載入\n",
    "使用下面的程式碼載入資料:"
   ]
  },
  {
   "cell_type": "code",
   "execution_count": 3,
   "metadata": {
    "colab": {
     "base_uri": "https://localhost:8080/"
    },
    "id": "NNyA9aPqamP3",
    "outputId": "65e64509-8979-4c58-c1e5-3353600ed0ea"
   },
   "outputs": [
    {
     "name": "stdout",
     "output_type": "stream",
     "text": [
      "X_train shape =  (463715, 90)\n",
      "X_subtrain shape =  (417344, 90)\n",
      "X_valid shape =  (46371, 90)\n",
      "Y_subtrain shape =  (417344,)\n",
      "Y_valid shape =  (46371,)\n",
      "X_test shape =  (51630, 90)\n"
     ]
    }
   ],
   "source": [
    "#load packages\n",
    "%matplotlib inline\n",
    "import pickle\n",
    "from sklearn import preprocessing\n",
    "\n",
    "#Load data\n",
    "with open('/content/msd_full.pickle', 'rb') as fh1:\n",
    "    msd_data = pickle.load(fh1)\n",
    "\n",
    "doscaling = 1\n",
    "if (doscaling == 1):\n",
    "    xscaler = preprocessing.StandardScaler().fit(msd_data['X_train'])\n",
    "    #standardize feature values\n",
    "    X_train = xscaler.transform(msd_data['X_train'])\n",
    "    X_test = xscaler.transform(msd_data['X_test'])\n",
    "else:\n",
    "    X_train = msd_data['X_train']\n",
    "    X_test = msd_data['X_test']\n",
    "\n",
    "Y_train = msd_data['Y_train']\n",
    "Y_test = msd_data['Y_test'].astype('float32')\n",
    "X_test = X_test.astype('float32')\n",
    "\n",
    "y_mean = Y_train.mean()\n",
    "Y_train_keep = Y_train.copy()\n",
    "Y_test_keep = Y_test.copy()\n",
    "Y_train = Y_train - y_mean\n",
    "Y_test = Y_test - y_mean\n",
    "\n",
    "\n",
    "#validation is the last 10% of training, subtraining is the first 90% of training\n",
    "nvalid = int(X_train.shape[0] * 0.1)\n",
    "nsubtrain = X_train.shape[0] - nvalid\n",
    "\n",
    "X_subtrain = X_train[0:nsubtrain, :].astype('float32')\n",
    "X_valid = X_train[nsubtrain:, :].astype('float32')\n",
    "Y_subtrain = Y_train[0:nsubtrain].astype('float32')\n",
    "Y_valid = Y_train[nsubtrain:].astype('float32')\n",
    "\n",
    "Y_subtrain_keep = Y_train_keep[0:nsubtrain].astype('float32')\n",
    "Y_valid_keep = Y_train_keep[nsubtrain:].astype('float32')\n",
    "\n",
    "print(\"X_train shape = \", X_train.shape)\n",
    "print(\"X_subtrain shape = \", X_subtrain.shape)\n",
    "print(\"X_valid shape = \", X_valid.shape)\n",
    "print(\"Y_subtrain shape = \", Y_subtrain.shape)\n",
    "print(\"Y_valid shape = \", Y_valid.shape)\n",
    "print(\"X_test shape = \", X_test.shape)"
   ]
  },
  {
   "cell_type": "markdown",
   "metadata": {
    "id": "PBL9DG6_amP5"
   },
   "source": [
    "### 回答下面問題"
   ]
  },
  {
   "cell_type": "markdown",
   "metadata": {
    "id": "r1zGBNF6amP6"
   },
   "source": [
    "#### Q1 (5%)\n",
    "使用Training資料訓練一個Ordinary Least Square模型，並進行預測。列出此模型的RMSE與前五個特徵的參數。OLS模型應包含常數項，且不應有任何Regularization。\n",
    "\n",
    "\n"
   ]
  },
  {
   "cell_type": "markdown",
   "metadata": {
    "id": "46KCY6RwFFBL"
   },
   "source": [
    "* 首先撰寫計算RMSE的function\r\n",
    "* 使用sklearn.linear_model的LinearRegression，fit(X_train,Y_train)，Predict(X_test)後印出RMSE和前五個coef"
   ]
  },
  {
   "cell_type": "code",
   "execution_count": 4,
   "metadata": {
    "id": "s83Ixe0LEZ1P"
   },
   "outputs": [],
   "source": [
    "import numpy as np\r\n",
    "\r\n",
    "def rmse(y, y_pred)    \n",
    "  return np.sqrt(np.mean((y_pred - y)**2))"
   ]
  },
  {
   "cell_type": "code",
   "execution_count": null,
   "metadata": {
    "colab": {
     "base_uri": "https://localhost:8080/"
    },
    "id": "g15MNds2bDoo",
    "outputId": "7d5c541a-c062-4aad-ab44-ee2549965bf1"
   },
   "outputs": [
    {
     "name": "stdout",
     "output_type": "stream",
     "text": [
      "RMSE:  9.510160684544399\n"
     ]
    },
    {
     "data": {
      "text/plain": [
       "array([ 5.30975265, -2.88088114, -1.53234348,  0.05737583, -0.33952889])"
      ]
     },
     "execution_count": 3,
     "metadata": {
      "tags": []
     },
     "output_type": "execute_result"
    }
   ],
   "source": [
    "from sklearn.linear_model import LinearRegression\r\n",
    "\r\n",
    "reg = LinearRegression().fit(X_train, Y_train)\r\n",
    "y_pred = reg.predict(X_test)\r\n",
    "print('RMSE: ', rmse(Y_test, y_pred))\r\n",
    "reg.coef_[:5]"
   ]
  },
  {
   "cell_type": "markdown",
   "metadata": {
    "id": "bro5W51CG9ML"
   },
   "source": [
    "* OLS的RMSE為：9.510160684544399"
   ]
  },
  {
   "cell_type": "markdown",
   "metadata": {
    "id": "07v3rta6fqxZ"
   },
   "source": [
    "#### Q2 MLP with Four Hidden Layers (15%)\r\n",
    "建構一個有四層Hidden Layer的MLP。此模型由輸入層開始，第一層由90個Input Features通過線性層轉換為H個Hidden Nodes，通過ReLu Activation Function之後進入下一個線性層與ReLu Activation Function。如此再重複兩次線性層與Activation的疊加之後，通過一個線性層輸出。所有Hidden Layer的寬度都為H。\r\n",
    "\r\n",
    "令H= 45, 使用Stochastic Gradient Descent更新參數，設Learning Rate = 0.00001，無Weight Decay與Momentum。畫出模型訓練過程中的Training與Validation RMSE，列出Test RMSE。 並討論訓練過程中Training與Validation RMSE的圖形意義。"
   ]
  },
  {
   "cell_type": "code",
   "execution_count": 5,
   "metadata": {
    "colab": {
     "base_uri": "https://localhost:8080/"
    },
    "id": "v0bbzuUxgi3Y",
    "outputId": "f3ed992e-91fe-471f-bb4c-e6684c1b8cf3"
   },
   "outputs": [
    {
     "data": {
      "text/plain": [
       "False"
      ]
     },
     "execution_count": 5,
     "metadata": {
      "tags": []
     },
     "output_type": "execute_result"
    }
   ],
   "source": [
    "import torch\r\n",
    "\r\n",
    "torch.cuda.is_available()"
   ]
  },
  {
   "cell_type": "markdown",
   "metadata": {
    "id": "tlM326rSMDTr"
   },
   "source": [
    "* 依序建立Dataset, Dataloader\r\n"
   ]
  },
  {
   "cell_type": "code",
   "execution_count": 6,
   "metadata": {
    "id": "xjopfJaRfqHJ"
   },
   "outputs": [],
   "source": [
    "from torch.utils import data\r\n",
    "\r\n",
    "class Dataset(data.Dataset)    \n",
    "  'Characterizes a dataset for PyTorc    \r\n",
    "  def __init__(self, Xnp, Yn        \n",
    "    'Initialization, passing Xnp and         \r\n",
    "    self.labels         p\r\n",
    "    self.nobs = Xnp.shape[0]            \r\n",
    "    self.Xn        Xnp\r\n",
    "    self.Y     = Ynp\r\n",
    "  def __len        elf):\r\n",
    "    'Denotes the total number o        mples'\r\n",
    "    retur    self.nobs\r\n",
    "  def __getitem__(s         index):\r\n",
    "    'Generates one sample of         '        \r\n",
    "    X = s        Xnp[index]\r\n",
    "    y =         .Ynp[index]\r\n",
    "    return X, y\r\n",
    "    \r\n",
    "#y_train is a np    \r\n",
    "trainset = Dataset(X_subtrain, Y_subtrain)    \r\n",
    "validset = Dataset(X_valid, Y_valid)\r\n",
    "testset = Dataset(X_test, Y_test)"
   ]
  },
  {
   "cell_type": "code",
   "execution_count": 7,
   "metadata": {
    "id": "0aOFvwaNIFND"
   },
   "outputs": [],
   "source": [
    "trainloader = data.DataLoader(trainset, batch_size=1000, shuffle=True, num_workers=0)\r\n",
    "validloader = data.DataLoader(validset, batch_size=X_valid.shape[0], shuffle=True, num_workers=0)\r\n",
    "testloader = data.DataLoader(testset, batch_size=X_test.shape[0], shuffle=True, num_workers=0)"
   ]
  },
  {
   "cell_type": "markdown",
   "metadata": {
    "id": "DvvpCQ7xMRsD"
   },
   "source": [
    "* 按照題目指示搭建深度學習網路，將參數輸出成pt檔"
   ]
  },
  {
   "cell_type": "code",
   "execution_count": null,
   "metadata": {
    "colab": {
     "base_uri": "https://localhost:8080/"
    },
    "id": "h2oYmsrikVPZ",
    "outputId": "0bd31139-c4c5-412c-f486-72ac648a41d7"
   },
   "outputs": [
    {
     "name": "stdout",
     "output_type": "stream",
     "text": [
      "Running on device:  cuda\n"
     ]
    }
   ],
   "source": [
    "#get number of input features\r\n",
    "D_in = trainset.Xnp.shape[1]\r\n",
    "H = 45\r\n",
    "#Binary classification problem\r\n",
    "D_out = 1\r\n",
    "use_cuda = torch.cuda.is_available()\r\n",
    "if use_cuda:\r\n",
    "    device = \"cuda\"   \r\n",
    "else:\r\n",
    "    device = \"cpu\"\r\n",
    "print(\"Running on device: \", device)\r\n",
    "net = torch.nn.Sequential(\r\n",
    "        torch.nn.Linear(D_in, H),  \r\n",
    "        torch.nn.ReLU(),\r\n",
    "        torch.nn.Linear(H, H),\r\n",
    "        torch.nn.ReLU(),\r\n",
    "        torch.nn.Linear(H, H),\r\n",
    "        torch.nn.ReLU(),\r\n",
    "        torch.nn.Linear(H, H),\r\n",
    "        torch.nn.ReLU(),\r\n",
    "        torch.nn.Linear(H, D_out),\r\n",
    "        torch.nn.Sigmoid()\r\n",
    ")\r\n",
    "# convert everything to float precision. \r\n",
    "net = net.float()\r\n",
    "# move the model to device (i.e., cpu or gpu)\r\n",
    "net = net.to(device)"
   ]
  },
  {
   "cell_type": "code",
   "execution_count": 12,
   "metadata": {
    "id": "KYOzqotdy0tf"
   },
   "outputs": [],
   "source": [
    "# define the optimizer\r\n",
    "optimizer = torch.optim.SGD(net.parameters(), lr=0.00001, momentum=0, weight_decay=0)\r\n",
    "\r\n",
    "# L2 loss (SSE)\r\n",
    "loss_fn = torch.nn.MSELoss()"
   ]
  },
  {
   "cell_type": "markdown",
   "metadata": {
    "id": "_YG6-La5aCYc"
   },
   "source": [
    "* 使用.state_dict()紀錄最好的模型參數"
   ]
  },
  {
   "cell_type": "code",
   "execution_count": null,
   "metadata": {
    "id": "2JSo885dGi_b"
   },
   "outputs": [],
   "source": [
    "nepoch = 100\r\n",
    "step_count = 0\r\n",
    "log_interval = 100\r\n",
    "\r\n",
    "# For tuning\r\n",
    "min_rmse = 100\r\n",
    "best_step_count = 0\r\n",
    "patience = 50\r\n",
    "early_stop_count = 0\r\n",
    "PATH = '/content/q2.pt'\r\n",
    "\r\n",
    "# For draw\r\n",
    "train_l = []\r\n",
    "valid_l = []\r\n",
    "\r\n",
    "for epoch_id in range(0,     poch):      \r\n",
    "  for batch_idx, (inputs, targets) in enumerat        ainloader):\r\n",
    "    #reshape target to two-d        sional array\r\n",
    "    targets = targets        hape((-1, 1))\r\n",
    "    step_        t += 1                  net.train()\r\n",
    "    inputs, targets = inputs.to(device)        rgets.to(device)\r\n",
    "            mizer.zero_grad()\r\n",
    "    outputs        et(inputs)        \r\n",
    "    loss = lo        n(outputs, targe        \n",
    "    loss.backwar        \n",
    "    optimizer.step()\r\n",
    "    if step_count % log_l            em(), len(tar            )\r\n",
    "\r\n",
    "      # Train RMSE\r\n",
    "      tra            ppend(torch.s            ss))\r\n",
    "\r\n",
    "      # Valida                    with torch.no_grad():\r\n",
    "        for batch_idx, (inputs, targets) in e                    alidloader):            \r\n",
    "          inputs, targets = in                    vice), targets.to(device)\r\n",
    "                            = targets.reshape((-1, 1))\r\n",
    "                      tputs = net(inputs)        \r\n",
    "                            = loss_fn(outputs, targets)\r\n",
    "\r\n",
    "                  lid_l.append(torch.sqrt(cn_loss))\r",
    "                 if valid_l[-1].item(                rmse:\r\n",
    "        early_stop_cou                        best_step_count = step                        min_rmse = valid_l[-1].item            count,                [-1].item(), len(target                  else:\r\n",
    "        early_stop_c                1\r\n",
    "\r\n",
    "      if early_stop_count >= patience:\r\n",
    "        break\r\n"
   ]
  },
  {
   "cell_type": "code",
   "execution_count": null,
   "metadata": {
    "colab": {
     "base_uri": "https://localhost:8080/",
     "height": 283
    },
    "id": "PcBxOgD2eqo2",
    "outputId": "0a75a3a6-91c4-49d2-bb76-0af3db9d9f27"
   },
   "outputs": [
    {
     "data": {
      "text/plain": [
       "<matplotlib.legend.Legend at 0x7ff825561ac8>"
      ]
     },
     "execution_count": 10,
     "metadata": {
      "tags": []
     },
     "output_type": "execute_result"
    },
    {
     "data": {
      "image/png": "[encoded data removed]",
      "text/plain": [
       "<Figure size 432x288 with 1 Axes>"
      ]
     },
     "metadata": {
      "needs_background": "light",
      "tags": []
     },
     "output_type": "display_data"
    }
   ],
   "source": [
    "import matplotlib.pyplot as plt\r\n",
    "\r\n",
    "plt.plot(range(1, len(train_l)+1), train_l, label='train')\r\n",
    "plt.plot(range(1, len(train_l)+1), valid_l, label='valid')\r\n",
    "plt.legend(loc='best')"
   ]
  },
  {
   "cell_type": "markdown",
   "metadata": {
    "id": "IJMeT83rFMJz"
   },
   "source": [
    "* 模型沒有early stop\r\n",
    "* valid RMSE有緩慢的下降，但train RMSE反映模型似乎已經遇到學習困難"
   ]
  },
  {
   "cell_type": "markdown",
   "metadata": {
    "id": "0TtNhohbaKCb"
   },
   "source": [
    "* 利用.load_state_dict()還原最好的模型參數"
   ]
  },
  {
   "cell_type": "code",
   "execution_count": null,
   "metadata": {
    "colab": {
     "base_uri": "https://localhost:8080/"
    },
    "id": "BaXRo_4GDLAQ",
    "outputId": "f14a659b-5b62-4ffd-e6c1-f8ee06aad80e"
   },
   "outputs": [
    {
     "data": {
      "text/plain": [
       "<All keys matched successfully>"
      ]
     },
     "execution_count": 11,
     "metadata": {
      "tags": []
     },
     "output_type": "execute_result"
    }
   ],
   "source": [
    "net.load_state_dict(torch.load(PATH))"
   ]
  },
  {
   "cell_type": "code",
   "execution_count": null,
   "metadata": {
    "colab": {
     "base_uri": "https://localhost:8080/"
    },
    "id": "KnDmossRaWXt",
    "outputId": "03f1d312-f4d6-47da-8684-92a496a0f1ae"
   },
   "outputs": [
    {
     "name": "stdout",
     "output_type": "stream",
     "text": [
      "Test RMSE: 10.8574800491333\n"
     ]
    }
   ],
   "source": [
    "with torch.no_grad():\r",
    "     for batch_idx, (inputs, targets) in enumerate(testloader):                      inputs, targets = inputs.to(device), targets.to(device           targets = targets.reshape((-1, 1            outputs = net(inputs)             \n",
    "    cn_loss = loss_fn(outputs, targets)\r\n",
    "\r\n",
    "print('Test RMSE:', torch.sqrt(cn_loss).item())"
   ]
  },
  {
   "cell_type": "markdown",
   "metadata": {
    "id": "waHLUzudc_k8"
   },
   "source": [
    "* Test RMSE為10.8574800491333\r\n",
    "* 差於OLS模型"
   ]
  },
  {
   "cell_type": "markdown",
   "metadata": {
    "id": "riBK1ODPa2h-"
   },
   "source": [
    "\r\n",
    "\r\n",
    "#### Q3 (10%)\r\n",
    "重複上題步驟，使用H = 90與180。無須畫訓練過程的RMSE。列出這兩個Test RMSE。討論H = 45, 90, 180的Test RMSE。\r\n",
    "\r\n"
   ]
  },
  {
   "cell_type": "markdown",
   "metadata": {
    "id": "9hfHZIUzIXZA"
   },
   "source": [
    "* 按照題目指示搭建深度學習網路，將參數輸出成pt檔\r\n"
   ]
  },
  {
   "cell_type": "code",
   "execution_count": null,
   "metadata": {
    "colab": {
     "base_uri": "https://localhost:8080/"
    },
    "id": "hKQ-qnETkdFs",
    "outputId": "c02bba40-96b7-46c0-e4fc-d60fce6bfe85"
   },
   "outputs": [
    {
     "name": "stdout",
     "output_type": "stream",
     "text": [
      "Test RMSE: 10.85815715789795\n",
      "Test RMSE: 10.856585502624512\n"
     ]
    }
   ],
   "source": [
    "H_list = [90, 180]\r\n",
    "\r\n",
    "for H in H_list    \n",
    "  #get number of input featur    \r\n",
    "  D_in = trainset.Xnp.shape    ]\r\n",
    "  D_out     1\r\n",
    "  use_cuda = torch.cuda.is_availa    e()\r\n",
    "  if use        a:\r\n",
    "    device = \"c    a\"   \r",
    "        lse:\r\n",
    "    devic    = \"cpu\"\r\n",
    "  net = torch.nn.S        ntial(\r\n",
    "    torch.nn.Linear(        , H),  \r\n",
    "    torc        .ReLU(),\r\n",
    "    torch.nn.        ar(H, H),\r\n",
    "    to        nn.ReLU(),\r\n",
    "    torch.n        near(H, H),\r\n",
    "            h.nn.ReLU(),\r\n",
    "    torch        Linear(H, H),\r\n",
    "          rch.nn.ReLU(),\r\n",
    "    torch.n        near(H, D_out),\r\n",
    "      to    h.nn.Sigmoid()\r\n",
    "  )\r\n",
    "  # convert everythin    to float precision    \r\n",
    "  net = net.float()\r\n",
    "  # move the model to d    ice (i.e., cpu or gpu)      net = net.to(device)\r\n",
    "\r\n",
    "  optimizer = torch.optim.SGD(net.parameters(), lr=0.00001, m    entum=0, weig    _decay=0)\r\n",
    "\r\n",
    "      poch = 100\r\n",
    "  step_c    nt = 0\r\n",
    "  log    nterval = 100\r\n",
    "      # For tuning\r\n",
    "  mi    rmse = 100\r\n",
    " \n",
    "    st_step_count = 0\r\n",
    "      tience = 50\r\n",
    "  early_stop_count = 0\r",
    "     PATH = '/content/q3_'+str(H)+'.pt'\r\n",
    "\r\n",
    "          epoch_id in range(0, nepoch):      \r\n",
    "    for batch_idx, (in            targets) in enumerate(trainloader):\r\n",
    "                hape target to two-dimensional arra               targets = targets.res            -1, 1))\r\n",
    "               p_count += 1        \r\n",
    "      net.train()\r\n",
    "      inputs, t             = inputs.to(device),             s.to(device)\r\n",
    "      optimizer.            rad()\r\n",
    "      outputs = net(inputs               \r\n",
    "      loss             _fn(outputs, targ                  loss.backward()\r\n",
    "      optimizer.step()\r\n",
    "                 step_count %                 rval == 0:                                  # Validation\r\n",
    "        with torch.no_grad():\r\n",
    "          for batch_idx,                         gets) in enumerate(validloader):            \r\n",
    "                                  rgets = inputs.to(device), targets.                                    targets = targets.                         1))\r\n",
    "            outputs = net(input                          \r\n",
    "            cn_loss = loss_fn(outputs,                            \n",
    "\r\n",
    "        if torch.s                            s).item() < min_rmse:\r\n",
    "                                  stop_count = 0\r\n",
    "          best_step_co                            _count\r\n",
    "          min_rmse = torch.                        % (epo                            p_count, valid_l[-1].it                        n(targets)))\r\n",
    "        else:\r\n",
    "                                y_stop_co    t += 1\r",
    "    \n",
    "        if early_stop_count >= patien    :\r\n",
    "          break\r\n",
    "          # Test\r\n",
    "  net.load_state_dict(torch.load(PATH))\r\n",
    "  with torch.no_grad()             for batch_idx, (inputs, targets) in enumerate(testloade                     \r\n",
    "      inputs, targets =             .to(device), targets.to(device               targets = targets.reshape((-1, 1))          outputs = net(inputs)        \r\n",
    "      cn_loss = loss_fn(outputs, targets)\r\n",
    "\r\n",
    "  print('Test RMSE:', torch.sqrt(cn_loss).item())"
   ]
  },
  {
   "cell_type": "markdown",
   "metadata": {
    "id": "e72Wtt9ofDMa"
   },
   "source": [
    "* H=90的RMSE為10.85815715789795\r\n",
    "* H=180的RMSE為10.856585502624512\r\n",
    "* Test RMSE H=180 < 45 < 90，且表現都比OLS差"
   ]
  },
  {
   "cell_type": "markdown",
   "metadata": {
    "id": "P8jtqb7ajSkq"
   },
   "source": [
    "#### Q4 (15%)\r\n",
    "使用Q2的模型設定，考慮 H = 45, 90, 180與Weight Decay = 0.1, 0.2, 0.4的所有組合。模型估計後做表整理Test RMSE。討論H的選擇應為多少較合理?\r\n",
    "\r\n"
   ]
  },
  {
   "cell_type": "markdown",
   "metadata": {
    "id": "glJ1Kz5DJuPk"
   },
   "source": [
    "* 按照題目指示搭建深度學習網路，將參數輸出成pt檔\r\n"
   ]
  },
  {
   "cell_type": "code",
   "execution_count": null,
   "metadata": {
    "colab": {
     "base_uri": "https://localhost:8080/"
    },
    "id": "xltRky-7I_JN",
    "outputId": "fb17ce25-ad58-448e-a556-58d8eeb601d3"
   },
   "outputs": [
    {
     "name": "stdout",
     "output_type": "stream",
     "text": [
      "H = 45 Weight Decay = 0.1\n",
      "Test RMSE: 10.856684684753418\n",
      "H = 90 Weight Decay = 0.1\n",
      "Test RMSE: 10.856759071350098\n",
      "H = 180 Weight Decay = 0.1\n",
      "Test RMSE: 10.857929229736328\n",
      "H = 45 Weight Decay = 0.2\n",
      "Test RMSE: 10.857916831970215\n",
      "H = 90 Weight Decay = 0.2\n",
      "Test RMSE: 10.857169151306152\n",
      "H = 180 Weight Decay = 0.2\n",
      "Test RMSE: 10.857810974121094\n",
      "H = 45 Weight Decay = 0.4\n",
      "Test RMSE: 10.857714653015137\n",
      "H = 90 Weight Decay = 0.4\n",
      "Test RMSE: 10.858030319213867\n",
      "H = 180 Weight Decay = 0.4\n",
      "Test RMSE: 10.85773754119873\n"
     ]
    }
   ],
   "source": [
    "decay = [0.1, 0.2, 0.4]\r\n",
    "H_list = [45, 90, 180]\r\n",
    "\r\n",
    "for d in decay:\r\n",
    "\r\n",
    "  for H in H_list:\r\n",
    "    #get number of input features\r\n",
    "    D_in = trainset.Xnp.shape[1]\r\n",
    "    D_out = 1\r\n",
    "    use_cuda = torch.cuda.is_available()\r\n",
    "    if use_cuda:\r\n",
    "      device = \"cuda\"   \r\n",
    "    else:\r\n",
    "      device = \"cpu\"\r\n",
    "    net = torch.nn.Sequential(\r\n",
    "      torch.nn.Linear(D_in, H),  \r\n",
    "      torch.nn.ReLU(),\r\n",
    "      torch.nn.Linear(H, H),\r\n",
    "      torch.nn.ReLU(),\r\n",
    "      torch.nn.Linear(H, H),\r\n",
    "      torch.nn.ReLU(),\r\n",
    "      torch.nn.Linear(H, H),\r\n",
    "      torch.nn.ReLU(),\r\n",
    "      torch.nn.Linear(H, D_out),\r\n",
    "      torch.nn.Sigmoid()\r\n",
    "    )\r\n",
    "    # convert everything to float precision. \r\n",
    "    net = net.float()\r\n",
    "    # move the model to device (i.e., cpu or gpu)\r\n",
    "    net = net.to(device)\r\n",
    "\r\n",
    "    optimizer = torch.optim.SGD(net.parameters(), lr=0.00001, momentum=0, weight_decay=d)\r\n",
    "\r\n",
    "    nepoch = 100\r\n",
    "    step_count = 0\r\n",
    "    log_interval = 100\r\n",
    "\r\n",
    "    # For tuning\r\n",
    "    min_rmse = 100\r\n",
    "    best_step_count = 0\r\n",
    "    patience = 50\r\n",
    "    early_stop_count = 0\r\n",
    "    PATH = '/content/q4_'+str(H)+'_'+str(d)+'.pt'\r\n",
    "\r\n",
    "    for epoch_id in range(0, nepoch):      \r\n",
    "      for batch_idx, (inputs, targets) in enumerate(trainloader):\r\n",
    "        #reshape target to two-dimensional array\r\n",
    "        targets = targets.reshape((-1, 1))\r\n",
    "        step_count += 1        \r\n",
    "        net.train()\r\n",
    "        inputs, targets = inputs.to(device), targets.to(device)\r\n",
    "        optimizer.zero_grad()\r\n",
    "        outputs = net(inputs)        \r\n",
    "        loss = loss_fn(outputs, targets)\r\n",
    "        loss.backward()\r\n",
    "        optimizer.step()\r\n",
    "        if step_count % log_interval == 0:            \r\n",
    "\r\n",
    "          # Validation\r\n",
    "          with torch.no_grad():\r\n",
    "            for batch_idx, (inputs, targets) in enumerate(validloader):            \r\n",
    "              inputs, targets = inputs.to(device), targets.to(device)\r\n",
    "              targets = targets.reshape((-1, 1))\r\n",
    "              outputs = net(inputs)        \r\n",
    "              cn_loss = loss_fn(outputs, targets)\r\n",
    "\r\n",
    "          if torch.sqrt(cn_loss).item() < min_rmse:\r\n",
    "            early_stop_count = 0\r\n",
    "            best_step_count = step_count\r\n",
    "            min_rmse = torch.sqrt(cn_loss).item()\r\n",
    "            torch.save(net.state_dict(), PATH)\r\n",
    "            # print(\"Epoch %d Step %d RMSE = %.3f (minibatch size = %d)\" % (epoch_id, step_count, valid_l[-1].item(), len(targets)))\r\n",
    "          else:\r\n",
    "            early_stop_count += 1\r\n",
    "\r\n",
    "          if early_stop_count >= patience:\r\n",
    "            break\r\n",
    "    \r\n",
    "    # Test\r\n",
    "    net.load_state_dict(torch.load(PATH))\r\n",
    "    with torch.no_grad():\r\n",
    "      for batch_idx, (inputs, targets) in enumerate(testloader):            \r\n",
    "        inputs, targets = inputs.to(device), targets.to(device)\r\n",
    "        targets = targets.reshape((-1, 1))\r\n",
    "        outputs = net(inputs)        \r\n",
    "        cn_loss = loss_fn(outputs, targets)\r\n",
    "\r\n",
    "    print('H =', H, 'Weight Decay =', d)\r\n",
    "    print('Test RMSE:', torch.sqrt(cn_loss).item())"
   ]
  },
  {
   "cell_type": "markdown",
   "metadata": {
    "id": "4yqQPLwNQj1e"
   },
   "source": [
    "* 在Weight Decay（正規化）=0.1時，H = 45, 90變好。\r\n",
    "* 0.2與0.4時，剩H = 90變好。\r\n",
    "* H = 45與90較有機會透過正規化降低RMSE。\r\n",
    "* 又以H = 90和Weight Decay = 0.1的表現平均而言較好。"
   ]
  },
  {
   "cell_type": "markdown",
   "metadata": {
    "id": "iwZKLO1uqEly"
   },
   "source": [
    "#### Q5 MLP with Dropout (15%)\r\n",
    "建構一個有Dropout的四層Hidden Layer的MLP。此模型由輸入層開始，第一層由90個Input Features通過線性層轉換為H個Hidden Nodes，通過ReLu Activation Function，之後對Hidden Unit Dropout，機率為0.5。後面各Hidden Lyaer均在ReLu後有Dropout，機率皆為0.5。最後通過一個線性層輸出。所有Hidden Layer的寬度都為H。\r\n",
    "\r\n",
    "令H= 90, 使用Adaptive Moment Estimation (Adam)更新參數，設Learning Rate = 0.001，無Weight Decay與Momentum，其他參數使用預設值。畫出模型訓練過程中的Training與Validation RMSE，列出Test RMSE。 並討論訓練過程中Training與Validation RMSE的圖形意義。\r\n",
    "\r\n"
   ]
  },
  {
   "cell_type": "markdown",
   "metadata": {
    "id": "tH2vc92OUalN"
   },
   "source": [
    "* 按照題目指示搭建深度學習網路，將參數輸出成pt檔\r\n",
    "* 將net function化\r\n"
   ]
  },
  {
   "cell_type": "code",
   "execution_count": 8,
   "metadata": {
    "id": "6LI8cef6WR8Q"
   },
   "outputs": [],
   "source": [
    "use_cuda = torch.cuda.is_available()\r\n",
    "if use_cuda:\r\n",
    "    device = \"cuda\"   \r\n",
    "else:\r\n",
    "    device = \"cpu\""
   ]
  },
  {
   "cell_type": "code",
   "execution_count": 10,
   "metadata": {
    "id": "QFbpg8uPAntS"
   },
   "outputs": [],
   "source": [
    "def get_net_dropout(H):\r\n",
    "  #get number of input features\r\n",
    "  D_in = trainset.Xnp.shape[1]\r\n",
    "  #Binary classification problem\r\n",
    "  D_out = 1\r\n",
    "  net = torch.nn.Sequential(\r\n",
    "          torch.nn.Linear(D_in, H),  \r\n",
    "          torch.nn.ReLU(),\r\n",
    "          torch.nn.Dropout(0.5),\r\n",
    "          torch.nn.Linear(H, H),\r\n",
    "          torch.nn.ReLU(),\r\n",
    "          torch.nn.Dropout(0.5),\r\n",
    "          torch.nn.Linear(H, H),\r\n",
    "          torch.nn.ReLU(),\r\n",
    "          torch.nn.Dropout(0.5),\r\n",
    "          torch.nn.Linear(H, H),\r\n",
    "          torch.nn.ReLU(),\r\n",
    "          torch.nn.Dropout(0.5),\r\n",
    "          torch.nn.Linear(H, D_out),\r\n",
    "          torch.nn.Sigmoid()\r\n",
    "  )\r\n",
    "  # convert everything to float precision. \r\n",
    "  net = net.float()\r\n",
    "  return net"
   ]
  },
  {
   "cell_type": "code",
   "execution_count": null,
   "metadata": {
    "colab": {
     "base_uri": "https://localhost:8080/"
    },
    "id": "Sz-24kuuCrIN",
    "outputId": "dcdb9bc6-3f88-4c5d-b89a-ad55779f805b"
   },
   "outputs": [
    {
     "name": "stdout",
     "output_type": "stream",
     "text": [
      "Running on device:  cuda\n"
     ]
    }
   ],
   "source": [
    "net = get_net_dropout(90)\r\n",
    "# move the model to device (i.e., cpu or gpu)\r\n",
    "net = net.to(device)"
   ]
  },
  {
   "cell_type": "code",
   "execution_count": null,
   "metadata": {
    "id": "I4xqPmDmTQUu"
   },
   "outputs": [],
   "source": [
    "optimizer = torch.optim.Adam(net.parameters(), lr=0.001, weight_decay=0)"
   ]
  },
  {
   "cell_type": "code",
   "execution_count": null,
   "metadata": {
    "id": "Gv4aDRpfVoRs"
   },
   "outputs": [],
   "source": [
    "nepoch = 100\r\n",
    "step_count = 0\r\n",
    "log_interval = 100\r\n",
    "\r\n",
    "# For tuning\r\n",
    "min_rmse = 100\r\n",
    "best_step_count = 0\r\n",
    "patience = 50\r\n",
    "early_stop_count = 0\r\n",
    "PATH = '/content/q5.pt'\r\n",
    "\r\n",
    "# For draw\r\n",
    "train_l = []\r\n",
    "valid_l = []\r\n",
    "\r\n",
    "for epoch_id in range(0, nepoch):      \r\n",
    "  for batch_idx, (inputs, targets) in enumerate(trainloader):\r\n",
    "    #reshape target to two-dimensional array\r\n",
    "    targets = targets.reshape((-1, 1))\r\n",
    "    step_count += 1        \r\n",
    "    net.train()\r\n",
    "    inputs, targets = inputs.to(device), targets.to(device)\r\n",
    "    optimizer.zero_grad()\r\n",
    "    outputs = net(inputs)        \r\n",
    "    loss = loss_fn(outputs, targets)\r\n",
    "    loss.backward()\r\n",
    "    optimizer.step()\r\n",
    "    if step_count % log_interval == 0:            \r\n",
    "      # print(\"Epoch %d Step %d Loss = %.3f (minibatch size = %d)\" % (epoch_id, step_count, loss.item(), len(targets)))\r\n",
    "\r\n",
    "      # Train RMSE\r\n",
    "      train_l.append(torch.sqrt(loss))\r\n",
    "\r\n",
    "      # Validation\r\n",
    "      with torch.no_grad():\r\n",
    "        for batch_idx, (inputs, targets) in enumerate(validloader):            \r\n",
    "          inputs, targets = inputs.to(device), targets.to(device)\r\n",
    "          targets = targets.reshape((-1, 1))\r\n",
    "          outputs = net(inputs)        \r\n",
    "          cn_loss = loss_fn(outputs, targets)\r\n",
    "\r\n",
    "          valid_l.append(torch.sqrt(cn_loss))\r\n",
    "\r\n",
    "      if valid_l[-1].item() < min_rmse:\r\n",
    "        early_stop_count = 0\r\n",
    "        best_step_count = step_count\r\n",
    "        min_rmse = valid_l[-1].item()\r\n",
    "        torch.save(net.state_dict(), PATH)\r\n",
    "        # print(\"Epoch %d Step %d RMSE = %.3f (minibatch size = %d)\" % (epoch_id, step_count, valid_l[-1].item(), len(targets)))\r\n",
    "      else:\r\n",
    "        early_stop_count += 1\r\n",
    "\r\n",
    "      if early_stop_count >= patience:\r\n",
    "        break"
   ]
  },
  {
   "cell_type": "code",
   "execution_count": null,
   "metadata": {
    "colab": {
     "base_uri": "https://localhost:8080/",
     "height": 283
    },
    "id": "vC5znlSRE9Vl",
    "outputId": "6e95afb5-00fc-4071-efeb-1a2259adf3f7"
   },
   "outputs": [
    {
     "data": {
      "text/plain": [
       "<matplotlib.legend.Legend at 0x7ff8254ff518>"
      ]
     },
     "execution_count": 19,
     "metadata": {
      "tags": []
     },
     "output_type": "execute_result"
    },
    {
     "data": {
      "image/png": "[encoded data removed]",
      "text/plain": [
       "<Figure size 432x288 with 1 Axes>"
      ]
     },
     "metadata": {
      "needs_background": "light",
      "tags": []
     },
     "output_type": "display_data"
    }
   ],
   "source": [
    "plt.plot(range(1, len(train_l)+1), train_l, label='train')\r\n",
    "plt.plot(range(1, len(train_l)+1), valid_l, label='valid')\r\n",
    "plt.legend(loc='best')"
   ]
  },
  {
   "cell_type": "code",
   "execution_count": null,
   "metadata": {
    "colab": {
     "base_uri": "https://localhost:8080/"
    },
    "id": "sOWIqm8HFDAm",
    "outputId": "ca60290b-0bbb-4fee-de4d-5098a7ccf54a"
   },
   "outputs": [
    {
     "name": "stdout",
     "output_type": "stream",
     "text": [
      "Test RMSE: 10.639755249023438\n"
     ]
    }
   ],
   "source": [
    "with torch.no_grad():\r\n",
    "  for batch_idx, (inputs, targets) in enumerate(testloader):            \r\n",
    "    inputs, targets = inputs.to(device), targets.to(device)\r\n",
    "    targets = targets.reshape((-1, 1))\r\n",
    "    outputs = net(inputs)        \r\n",
    "    cn_loss = loss_fn(outputs, targets)\r\n",
    "\r\n",
    "print('Test RMSE:', torch.sqrt(cn_loss).item())"
   ]
  },
  {
   "cell_type": "markdown",
   "metadata": {
    "id": "Nkbe8d0RUnC9"
   },
   "source": [
    "* 模型有early stop（收斂），且最左邊的地方valid RMSE下降的比較明顯\r\n",
    "* Test RMSE為10.639755249023438，較不dropout的所有情況都來得低，但還是高於OLS"
   ]
  },
  {
   "cell_type": "markdown",
   "metadata": {
    "id": "WLT8vC8TI25L"
   },
   "source": [
    "#### Q6 Explore Number of Hidden Units (10%)\r\n",
    "使用上題的模型，考慮H = 20, 180, 360。 討論H = 20, 45, 180, 360的Test RMSE。\r\n",
    "\r\n"
   ]
  },
  {
   "cell_type": "markdown",
   "metadata": {
    "id": "0xvBHFzZVQFt"
   },
   "source": [
    "* 按照題目指示搭建深度學習網路，將參數輸出成pt檔\r\n"
   ]
  },
  {
   "cell_type": "code",
   "execution_count": 13,
   "metadata": {
    "colab": {
     "base_uri": "https://localhost:8080/"
    },
    "id": "P2Nm9GCxYstU",
    "outputId": "b461fa59-7fff-4faf-a002-967237e89458"
   },
   "outputs": [
    {
     "name": "stdout",
     "output_type": "stream",
     "text": [
      "H = 20 Test RMSE: 10.640788078308105\n",
      "H = 45 Test RMSE: 10.632692337036133\n",
      "H = 180 Test RMSE: 10.639541625976562\n",
      "H = 360 Test RMSE: 10.643932342529297\n"
     ]
    }
   ],
   "source": [
    "H_list = [20, 45, 180, 360]\r\n",
    "\r\n",
    "for H in H_list:\r\n",
    "  \r\n",
    "  net = get_net_dropout(H)\r\n",
    "  # move the model to device (i.e., cpu or gpu)\r\n",
    "  net = net.to(device)\r\n",
    "\r\n",
    "  optimizer = torch.optim.Adam(net.parameters(), lr=0.001, weight_decay=0)\r\n",
    "\r\n",
    "  nepoch = 100\r\n",
    "  step_count = 0\r\n",
    "  log_interval = 100\r\n",
    "\r\n",
    "  # For tuning\r\n",
    "  min_rmse = 100\r\n",
    "  best_step_count = 0\r\n",
    "  patience = 50\r\n",
    "  early_stop_count = 0\r\n",
    "  PATH = '/content/q6_'+str(H)+'.pt'\r\n",
    "\r\n",
    "  for epoch_id in range(0, nepoch):      \r\n",
    "    for batch_idx, (inputs, targets) in enumerate(trainloader):\r\n",
    "      #reshape target to two-dimensional array\r\n",
    "      targets = targets.reshape((-1, 1))\r\n",
    "      step_count += 1        \r\n",
    "      net.train()\r\n",
    "      inputs, targets = inputs.to(device), targets.to(device)\r\n",
    "      optimizer.zero_grad()\r\n",
    "      outputs = net(inputs)        \r\n",
    "      loss = loss_fn(outputs, targets)\r\n",
    "      loss.backward()\r\n",
    "      optimizer.step()\r\n",
    "      if step_count % log_interval == 0:            \r\n",
    "\r\n",
    "        # Validation\r\n",
    "        with torch.no_grad():\r\n",
    "          for batch_idx, (inputs, targets) in enumerate(validloader):            \r\n",
    "            inputs, targets = inputs.to(device), targets.to(device)\r\n",
    "            targets = targets.reshape((-1, 1))\r\n",
    "            outputs = net(inputs)        \r\n",
    "            cn_loss = loss_fn(outputs, targets)\r\n",
    "\r\n",
    "        if torch.sqrt(cn_loss).item() < min_rmse:\r\n",
    "          early_stop_count = 0\r\n",
    "          best_step_count = step_count\r\n",
    "          min_rmse = torch.sqrt(cn_loss).item()\r\n",
    "          torch.save(net.state_dict(), PATH)\r\n",
    "          # print(\"Epoch %d Step %d RMSE = %.3f (minibatch size = %d)\" % (epoch_id, step_count, valid_l[-1].item(), len(targets)))\r\n",
    "        else:\r\n",
    "          early_stop_count += 1\r\n",
    "\r\n",
    "        if early_stop_count >= patience:\r\n",
    "          break\r\n",
    "  \r\n",
    "  # Test\r\n",
    "  net.load_state_dict(torch.load(PATH))\r\n",
    "  with torch.no_grad():\r\n",
    "    for batch_idx, (inputs, targets) in enumerate(testloader):            \r\n",
    "      inputs, targets = inputs.to(device), targets.to(device)\r\n",
    "      targets = targets.reshape((-1, 1))\r\n",
    "      outputs = net(inputs)        \r\n",
    "      cn_loss = loss_fn(outputs, targets)\r\n",
    "\r\n",
    "  print('H =', H, 'Test RMSE:', torch.sqrt(cn_loss).item())"
   ]
  },
  {
   "cell_type": "markdown",
   "metadata": {
    "id": "FaUu4GnJVBb9"
   },
   "source": [
    "* Test RMSE由小至大依序為H = 45, 180, 90, 20, 360\r\n",
    "* 整體表現差異不大，都比不dropout好，但差於OLS"
   ]
  },
  {
   "cell_type": "markdown",
   "metadata": {
    "id": "5bixaPrDI5Ea"
   },
   "source": [
    "#### Q7 L2 + L1 Loss (15%)\r\n",
    "我們前面的小題皆是使用SSE，也就是L2 Loss。一個改善模型訓練的方式是使用多種類似的Loss，以線性組合的方式建構Loss Function。請使用Q5中的MLP with Dropout模型 (H = 90)，並以L2 + L1 Loss訓練模型。這個Loss的定義如下:\r\n",
    "\r\n",
    "$$\r\n",
    "loss(\\mathbf{y}, \\hat{\\mathbf{y}}) = z \\sum_{i=1}^n (y_i - \\hat{y}_i)^2 + (1 - z) \\sum_{i = 1}^n | y_i - \\hat{y}_i |,\r\n",
    "$$\r\n",
    "其中z為實數且$0 <=z <= 1$。\r\n",
    "\r\n",
    "使用z = 0.5。並以Adam訓練模型。畫出Training and Validation RMSE，並報告Test RMSE。注意這裡繪圖時應使用RMSE而不是這個特殊的Loss。\r\n",
    "\r\n",
    "另外，使用z = 0.0, 0.1, 0.9, 1.0訓練模型(不須提供訓練過程的Loss圖形)，統整各個z值下的Test RMSE並討論。\r\n",
    "\r\n"
   ]
  },
  {
   "cell_type": "markdown",
   "metadata": {
    "id": "bO5wio31fRvz"
   },
   "source": [
    "* 按照題目指示搭建深度學習網路，將參數輸出成pt檔\r\n"
   ]
  },
  {
   "cell_type": "code",
   "execution_count": 16,
   "metadata": {
    "id": "beIwpaccaTIN"
   },
   "outputs": [],
   "source": [
    "net = get_net_dropout(90)\r\n",
    "# move the model to device (i.e., cpu or gpu)\r\n",
    "net = net.to(device)\r\n",
    "\r\n",
    "optimizer = torch.optim.Adam(net.parameters(), lr=0.001, weight_decay=0)"
   ]
  },
  {
   "cell_type": "code",
   "execution_count": 17,
   "metadata": {
    "id": "WFrwVVTUWmv1"
   },
   "outputs": [],
   "source": [
    "nepoch = 100\r\n",
    "step_count = 0\r\n",
    "log_interval = 100\r\n",
    "\r\n",
    "# For tuning\r\n",
    "min_rmse = 100\r\n",
    "best_step_count = 0\r\n",
    "patience = 50\r\n",
    "early_stop_count = 0\r\n",
    "PATH = '/content/q7.pt'\r\n",
    "\r\n",
    "# For draw\r\n",
    "train_l = []\r\n",
    "valid_l = []\r\n",
    "\r\n",
    "for epoch_id in range(0, nepoch):      \r\n",
    "  for batch_idx, (inputs, targets) in enumerate(trainloader):\r\n",
    "    #reshape target to two-dimensional array\r\n",
    "    targets = targets.reshape((-1, 1))\r\n",
    "    step_count += 1        \r\n",
    "    net.train()\r\n",
    "    inputs, targets = inputs.to(device), targets.to(device)\r\n",
    "    optimizer.zero_grad()\r\n",
    "    outputs = net(inputs)        \r\n",
    "    L2_loss = loss_fn(outputs, targets)\r\n",
    "    L1_loss = torch.nn.L1Loss()(outputs, targets)\r\n",
    "    loss = 0.5*L2_loss + 0.5*L1_loss\r\n",
    "    loss.backward()\r\n",
    "    optimizer.step()\r\n",
    "    if step_count % log_interval == 0:            \r\n",
    "      # print(\"Epoch %d Step %d Loss = %.3f (minibatch size = %d)\" % (epoch_id, step_count, loss.item(), len(targets)))\r\n",
    "\r\n",
    "      # Train RMSE\r\n",
    "      train_l.append(torch.sqrt(L2_loss))\r\n",
    "\r\n",
    "      # Validation\r\n",
    "      with torch.no_grad():\r\n",
    "        for batch_idx, (inputs, targets) in enumerate(validloader):            \r\n",
    "          inputs, targets = inputs.to(device), targets.to(device)\r\n",
    "          targets = targets.reshape((-1, 1))\r\n",
    "          outputs = net(inputs)        \r\n",
    "          cn_loss = loss_fn(outputs, targets)\r\n",
    "\r\n",
    "          valid_l.append(torch.sqrt(cn_loss))\r\n",
    "\r\n",
    "      if valid_l[-1].item() < min_rmse:\r\n",
    "        early_stop_count = 0\r\n",
    "        best_step_count = step_count\r\n",
    "        min_rmse = valid_l[-1].item()\r\n",
    "        torch.save(net.state_dict(), PATH)\r\n",
    "        # print(\"Epoch %d Step %d RMSE = %.3f (minibatch size = %d)\" % (epoch_id, step_count, valid_l[-1].item(), len(targets)))\r\n",
    "      else:\r\n",
    "        early_stop_count += 1\r\n",
    "\r\n",
    "      if early_stop_count >= patience:\r\n",
    "        break"
   ]
  },
  {
   "cell_type": "code",
   "execution_count": 19,
   "metadata": {
    "colab": {
     "base_uri": "https://localhost:8080/",
     "height": 283
    },
    "id": "vxJx8wRkXFle",
    "outputId": "6fe30725-c889-43e8-910b-ace492787a19"
   },
   "outputs": [
    {
     "data": {
      "text/plain": [
       "<matplotlib.legend.Legend at 0x7f3f96f2b5f8>"
      ]
     },
     "execution_count": 19,
     "metadata": {
      "tags": []
     },
     "output_type": "execute_result"
    },
    {
     "data": {
      "image/png": "[encoded data removed]",
      "text/plain": [
       "<Figure size 432x288 with 1 Axes>"
      ]
     },
     "metadata": {
      "needs_background": "light",
      "tags": []
     },
     "output_type": "display_data"
    }
   ],
   "source": [
    "plt.plot(range(1, len(train_l)+1), train_l, label='train')\r\n",
    "plt.plot(range(1, len(train_l)+1), valid_l, label='valid')\r\n",
    "plt.legend(loc='best')"
   ]
  },
  {
   "cell_type": "markdown",
   "metadata": {
    "id": "tXZRh8IOZfZd"
   },
   "source": [
    "* 模型有Early Stop\r\n",
    "* 一開始loss下降的趨勢又更明顯一些。"
   ]
  },
  {
   "cell_type": "code",
   "execution_count": 20,
   "metadata": {
    "colab": {
     "base_uri": "https://localhost:8080/"
    },
    "id": "ck09u2dlX3C2",
    "outputId": "f20b240b-5ae8-41e4-cafc-c6102ebf395c"
   },
   "outputs": [
    {
     "name": "stdout",
     "output_type": "stream",
     "text": [
      "Test RMSE: 10.6332368850708\n"
     ]
    }
   ],
   "source": [
    "with torch.no_grad():\r\n",
    "  for batch_idx, (inputs, targets) in enumerate(testloader):            \r\n",
    "    inputs, targets = inputs.to(device), targets.to(device)\r\n",
    "    targets = targets.reshape((-1, 1))\r\n",
    "    outputs = net(inputs)        \r\n",
    "    cn_loss = loss_fn(outputs, targets)\r\n",
    "\r\n",
    "print('Test RMSE:', torch.sqrt(cn_loss).item())"
   ]
  },
  {
   "cell_type": "markdown",
   "metadata": {
    "id": "UJEJ2nVHdTfk"
   },
   "source": [
    "* Test RMSE為10.6332368850708，稍稍差於H=45的dropout\r\n",
    "* 還是差於OLS\r\n"
   ]
  },
  {
   "cell_type": "code",
   "execution_count": 21,
   "metadata": {
    "colab": {
     "base_uri": "https://localhost:8080/"
    },
    "id": "zSxuHhmqZxxo",
    "outputId": "001a58d9-36a8-4043-8d8e-d3f9adbba83f"
   },
   "outputs": [
    {
     "name": "stdout",
     "output_type": "stream",
     "text": [
      "z = 0.0 Test RMSE: 10.642412185668945\n",
      "z = 0.1 Test RMSE: 10.63064193725586\n",
      "z = 0.9 Test RMSE: 10.63640022277832\n",
      "z = 1.0 Test RMSE: 10.63419246673584\n"
     ]
    }
   ],
   "source": [
    "z_list = [0.0, 0.1, 0.9, 1.0]\r\n",
    "\r\n",
    "for z in z_list:\r\n",
    "\r\n",
    "  net = get_net_dropout(90)\r\n",
    "  # move the model to device (i.e., cpu or gpu)\r\n",
    "  net = net.to(device)\r\n",
    "\r\n",
    "  optimizer = torch.optim.Adam(net.parameters(), lr=0.001, weight_decay=0)\r\n",
    "\r\n",
    "  nepoch = 100\r\n",
    "  step_count = 0\r\n",
    "  log_interval = 100\r\n",
    "\r\n",
    "  # For tuning\r\n",
    "  min_rmse = 100\r\n",
    "  best_step_count = 0\r\n",
    "  patience = 50\r\n",
    "  early_stop_count = 0\r\n",
    "  PATH = '/content/q7_'+str(z)+'.pt'\r\n",
    "\r\n",
    "  for epoch_id in range(0, nepoch):      \r\n",
    "    for batch_idx, (inputs, targets) in enumerate(trainloader):\r\n",
    "      #reshape target to two-dimensional array\r\n",
    "      targets = targets.reshape((-1, 1))\r\n",
    "      step_count += 1        \r\n",
    "      net.train()\r\n",
    "      inputs, targets = inputs.to(device), targets.to(device)\r\n",
    "      optimizer.zero_grad()\r\n",
    "      outputs = net(inputs)        \r\n",
    "      L2_loss = loss_fn(outputs, targets)\r\n",
    "      L1_loss = torch.nn.L1Loss()(outputs, targets)\r\n",
    "      loss = z*L2_loss + (1-z)*L1_loss\r\n",
    "      loss.backward()\r\n",
    "      optimizer.step()\r\n",
    "      if step_count % log_interval == 0:            \r\n",
    "\r\n",
    "        # Validation\r\n",
    "        with torch.no_grad():\r\n",
    "          for batch_idx, (inputs, targets) in enumerate(validloader):            \r\n",
    "            inputs, targets = inputs.to(device), targets.to(device)\r\n",
    "            targets = targets.reshape((-1, 1))\r\n",
    "            outputs = net(inputs)        \r\n",
    "            cn_loss = loss_fn(outputs, targets)\r\n",
    "\r\n",
    "        if torch.sqrt(cn_loss).item() < min_rmse:\r\n",
    "          early_stop_count = 0\r\n",
    "          best_step_count = step_count\r\n",
    "          min_rmse = torch.sqrt(cn_loss).item()\r\n",
    "          torch.save(net.state_dict(), PATH)\r\n",
    "          # print(\"Epoch %d Step %d RMSE = %.3f (minibatch size = %d)\" % (epoch_id, step_count, valid_l[-1].item(), len(targets)))\r\n",
    "        else:\r\n",
    "          early_stop_count += 1\r\n",
    "\r\n",
    "        if early_stop_count >= patience:\r\n",
    "          break\r\n",
    "  \r\n",
    "  # Test\r\n",
    "  net.load_state_dict(torch.load(PATH))\r\n",
    "  with torch.no_grad():\r\n",
    "    for batch_idx, (inputs, targets) in enumerate(testloader):            \r\n",
    "      inputs, targets = inputs.to(device), targets.to(device)\r\n",
    "      targets = targets.reshape((-1, 1))\r\n",
    "      outputs = net(inputs)        \r\n",
    "      cn_loss = loss_fn(outputs, targets)\r\n",
    "\r\n",
    "  print('z =', z, 'Test RMSE:', torch.sqrt(cn_loss).item())"
   ]
  },
  {
   "cell_type": "markdown",
   "metadata": {
    "id": "CAYqxOPsoK4_"
   },
   "source": [
    "* Test RMSE由小到大對應的z為：0.1 < 0.5 < 1.0 < 0.9 < 0.0\r\n",
    "* RMSE皆差異不大，然而純用L1 loss (0.0)的效果並不好\r\n",
    "* 還是差於OLS"
   ]
  },
  {
   "cell_type": "markdown",
   "metadata": {
    "id": "wJwy8LS0I7cj"
   },
   "source": [
    "#### Q8 L2 + Customerized Loss (15%)\r\n",
    "考慮另一個比較特別的Loss Function\r\n",
    "\r\n",
    "$$\r\n",
    "qloss(\\mathbf{y}, \\hat{\\mathbf{y}}) = \\sum_{i=1}^n \\{ q (y_i - \\hat{y}_i)_+ + (1 - q) (\\hat{y}_i - y_i)_+ \\},\r\n",
    "$$\r\n",
    "其中q為參數且$0<=q<=1$，而$(y_i - \\hat{y}_i)_+$是取正值的意思。也就是說如果$(y_i - \\hat{y}_i) > 0$，則$(y_i - \\hat{y}_i)_+ = y_i - \\hat{y}_i$，否則$(y_i - \\hat{y}_i)_+ = 0$。\r\n",
    "\r\n",
    "令模型的Loss為$z \\sum_{i=1}^n (y_i - \\hat{y}_i)^2 + (1 - z) \\sum_{i=1}^n \\{ 0.5 (y_i - \\hat{y}_i)_+ + 0.5 (\\hat{y}_i - y_i)_+ \\} $。請使用Q5中的MLP with Dropout模型(H = 90)，令z = 0。並以Adam訓練模型。畫出Training and Validation RMSE，並報告Test RMSE。注意這裡繪圖時應使用RMSE而不是這個特殊的Loss。\r\n",
    "\r\n",
    "另外，使用z = 0.1, 0.5, 0.9, 1.0訓練模型(不須提供訓練過程的Loss圖形)，統整各個z值下的Test RMSE並討論。"
   ]
  },
  {
   "cell_type": "markdown",
   "metadata": {
    "id": "e6DS3UxL8p0y"
   },
   "source": [
    "* 按照題目指示搭建深度學習網路，將參數輸出成pt檔\r\n",
    "* 建立my_loss之function，透過relu實作取正值"
   ]
  },
  {
   "cell_type": "code",
   "execution_count": 22,
   "metadata": {
    "id": "bm8FYTPFem3P"
   },
   "outputs": [],
   "source": [
    "def my_loss(output, target):\r\n",
    "  loss = 0.5*torch.nn.ReLU()(output-target) + 0.5*torch.nn.ReLU()(target-output)\r\n",
    "  loss = torch.mean(loss)\r\n",
    "  return loss"
   ]
  },
  {
   "cell_type": "code",
   "execution_count": 23,
   "metadata": {
    "id": "McQ5szqXkDFx"
   },
   "outputs": [],
   "source": [
    "net = get_net_dropout(90)\r\n",
    "# move the model to device (i.e., cpu or gpu)\r\n",
    "net = net.to(device)\r\n",
    "\r\n",
    "optimizer = torch.optim.Adam(net.parameters(), lr=0.001, weight_decay=0)\r\n",
    "\r\n",
    "nepoch = 100\r\n",
    "step_count = 0\r\n",
    "log_interval = 100\r\n",
    "\r\n",
    "# For tuning\r\n",
    "min_rmse = 100\r\n",
    "best_step_count = 0\r\n",
    "patience = 50\r\n",
    "early_stop_count = 0\r\n",
    "PATH = '/content/q8.pt'\r\n",
    "\r\n",
    "# For draw\r\n",
    "train_l = []\r\n",
    "valid_l = []\r\n",
    "\r\n",
    "for epoch_id in range(0, nepoch):      \r\n",
    "  for batch_idx, (inputs, targets) in enumerate(trainloader):\r\n",
    "    #reshape target to two-dimensional array\r\n",
    "    targets = targets.reshape((-1, 1))\r\n",
    "    step_count += 1        \r\n",
    "    net.train()\r\n",
    "    inputs, targets = inputs.to(device), targets.to(device)\r\n",
    "    optimizer.zero_grad()\r\n",
    "    outputs = net(inputs)        \r\n",
    "    loss = my_loss(outputs, targets)\r\n",
    "    loss.backward()\r\n",
    "    optimizer.step()\r\n",
    "    if step_count % log_interval == 0:            \r\n",
    "      # print(\"Epoch %d Step %d Loss = %.3f (minibatch size = %d)\" % (epoch_id, step_count, loss.item(), len(targets)))\r\n",
    "\r\n",
    "      # Train RMSE\r\n",
    "      L2_loss = loss_fn(outputs, targets)\r\n",
    "      train_l.append(torch.sqrt(L2_loss))\r\n",
    "\r\n",
    "      # Validation\r\n",
    "      with torch.no_grad():\r\n",
    "        for batch_idx, (inputs, targets) in enumerate(validloader):            \r\n",
    "          inputs, targets = inputs.to(device), targets.to(device)\r\n",
    "          targets = targets.reshape((-1, 1))\r\n",
    "          outputs = net(inputs)        \r\n",
    "          cn_loss = loss_fn(outputs, targets)\r\n",
    "\r\n",
    "          valid_l.append(torch.sqrt(cn_loss))\r\n",
    "\r\n",
    "      if valid_l[-1].item() < min_rmse:\r\n",
    "        early_stop_count = 0\r\n",
    "        best_step_count = step_count\r\n",
    "        min_rmse = valid_l[-1].item()\r\n",
    "        torch.save(net.state_dict(), PATH)\r\n",
    "        # print(\"Epoch %d Step %d RMSE = %.3f (minibatch size = %d)\" % (epoch_id, step_count, valid_l[-1].item(), len(targets)))\r\n",
    "      else:\r\n",
    "        early_stop_count += 1\r\n",
    "\r\n",
    "      if early_stop_count >= patience:\r\n",
    "        break"
   ]
  },
  {
   "cell_type": "code",
   "execution_count": 24,
   "metadata": {
    "colab": {
     "base_uri": "https://localhost:8080/",
     "height": 283
    },
    "id": "uMJ3IvBIkUFN",
    "outputId": "6345cc5b-c377-47af-89d6-618cd7f42c49"
   },
   "outputs": [
    {
     "data": {
      "text/plain": [
       "<matplotlib.legend.Legend at 0x7f3f96d51550>"
      ]
     },
     "execution_count": 24,
     "metadata": {
      "tags": []
     },
     "output_type": "execute_result"
    },
    {
     "data": {
      "image/png": "[encoded data removed]",
      "text/plain": [
       "<Figure size 432x288 with 1 Axes>"
      ]
     },
     "metadata": {
      "needs_background": "light",
      "tags": []
     },
     "output_type": "display_data"
    }
   ],
   "source": [
    "plt.plot(range(1, len(train_l)+1), train_l, label='train')\r\n",
    "plt.plot(range(1, len(train_l)+1), valid_l, label='valid')\r\n",
    "plt.legend(loc='best')"
   ]
  },
  {
   "cell_type": "markdown",
   "metadata": {
    "id": "Bklvce1cYVL4"
   },
   "source": [
    "* 訓練有early stop\r\n",
    "* 一開始loss下降得最明顯"
   ]
  },
  {
   "cell_type": "code",
   "execution_count": 25,
   "metadata": {
    "colab": {
     "base_uri": "https://localhost:8080/"
    },
    "id": "VufFSOATkXFe",
    "outputId": "7b845f6f-07f2-40db-a717-e29c25cf7f98"
   },
   "outputs": [
    {
     "name": "stdout",
     "output_type": "stream",
     "text": [
      "Test RMSE: 10.646892547607422\n"
     ]
    }
   ],
   "source": [
    "with torch.no_grad():\r\n",
    "  for batch_idx, (inputs, targets) in enumerate(testloader):            \r\n",
    "    inputs, targets = inputs.to(device), targets.to(device)\r\n",
    "    targets = targets.reshape((-1, 1))\r\n",
    "    outputs = net(inputs)        \r\n",
    "    cn_loss = loss_fn(outputs, targets)\r\n",
    "\r\n",
    "print('Test RMSE:', torch.sqrt(cn_loss).item())"
   ]
  },
  {
   "cell_type": "markdown",
   "metadata": {
    "id": "81wnhTDRYGew"
   },
   "source": [
    "* Test RMSE為10.646892547607422，較Q5和Q7高\r\n"
   ]
  },
  {
   "cell_type": "code",
   "execution_count": 26,
   "metadata": {
    "colab": {
     "base_uri": "https://localhost:8080/"
    },
    "id": "dplJCFq-pGhf",
    "outputId": "a2962663-5830-4d2c-8fbe-c9cc5d4d282e"
   },
   "outputs": [
    {
     "name": "stdout",
     "output_type": "stream",
     "text": [
      "z = 0.1 Test RMSE: 10.628636360168457\n",
      "z = 0.5 Test RMSE: 10.633079528808594\n",
      "z = 0.9 Test RMSE: 10.634305000305176\n",
      "z = 1.0 Test RMSE: 10.63422966003418\n"
     ]
    }
   ],
   "source": [
    "z_list = [0.1, 0.5, 0.9, 1.0]\r\n",
    "\r\n",
    "for z in z_list:\r\n",
    "\r\n",
    "  net = get_net_dropout(90)\r\n",
    "  # move the model to device (i.e., cpu or gpu)\r\n",
    "  net = net.to(device)\r\n",
    "\r\n",
    "  optimizer = torch.optim.Adam(net.parameters(), lr=0.001, weight_decay=0)\r\n",
    "  \r\n",
    "  nepoch = 100\r\n",
    "  step_count = 0\r\n",
    "  log_interval = 100\r\n",
    "\r\n",
    "  # For tuning\r\n",
    "  min_rmse = 100\r\n",
    "  best_step_count = 0\r\n",
    "  patience = 50\r\n",
    "  early_stop_count = 0\r\n",
    "  PATH = '/content/q8_'+str(z)+'.pt'\r\n",
    "\r\n",
    "  for epoch_id in range(0, nepoch):      \r\n",
    "    for batch_idx, (inputs, targets) in enumerate(trainloader):\r\n",
    "      #reshape target to two-dimensional array\r\n",
    "      targets = targets.reshape((-1, 1))\r\n",
    "      step_count += 1        \r\n",
    "      net.train()\r\n",
    "      inputs, targets = inputs.to(device), targets.to(device)\r\n",
    "      optimizer.zero_grad()\r\n",
    "      outputs = net(inputs)        \r\n",
    "      L2_loss = loss_fn(outputs, targets)\r\n",
    "      new_loss = my_loss(outputs, targets)\r\n",
    "      loss = z*L2_loss + (1-z)*new_loss\r\n",
    "      loss.backward()\r\n",
    "      optimizer.step()\r\n",
    "      if step_count % log_interval == 0:            \r\n",
    "\r\n",
    "        # Validation\r\n",
    "        with torch.no_grad():\r\n",
    "          for batch_idx, (inputs, targets) in enumerate(validloader):            \r\n",
    "            inputs, targets = inputs.to(device), targets.to(device)\r\n",
    "            targets = targets.reshape((-1, 1))\r\n",
    "            outputs = net(inputs)        \r\n",
    "            cn_loss = loss_fn(outputs, targets)\r\n",
    "\r\n",
    "        if torch.sqrt(cn_loss).item() < min_rmse:\r\n",
    "          early_stop_count = 0\r\n",
    "          best_step_count = step_count\r\n",
    "          min_rmse = torch.sqrt(cn_loss).item()\r\n",
    "          torch.save(net.state_dict(), PATH)\r\n",
    "          # print(\"Epoch %d Step %d RMSE = %.3f (minibatch size = %d)\" % (epoch_id, step_count, valid_l[-1].item(), len(targets)))\r\n",
    "        else:\r\n",
    "          early_stop_count += 1\r\n",
    "\r\n",
    "        if early_stop_count >= patience:\r\n",
    "          break\r\n",
    "  \r\n",
    "  # Test\r\n",
    "  net.load_state_dict(torch.load(PATH))\r\n",
    "  with torch.no_grad():\r\n",
    "    for batch_idx, (inputs, targets) in enumerate(testloader):            \r\n",
    "      inputs, targets = inputs.to(device), targets.to(device)\r\n",
    "      targets = targets.reshape((-1, 1))\r\n",
    "      outputs = net(inputs)        \r\n",
    "      cn_loss = loss_fn(outputs, targets)\r\n",
    "\r\n",
    "  print('z =', z, 'Test RMSE:', torch.sqrt(cn_loss).item())"
   ]
  },
  {
   "cell_type": "markdown",
   "metadata": {
    "id": "fwxugp-GeepD"
   },
   "source": [
    "* Test RMSE由小到大對應的z為：0.1 < 0.5 < 1.0 < 0.9 < 0.0，和Q7的z排序一樣\r\n",
    "* RMSE皆差異不大，然而純用my_loss (0.0)的效果並不好\r\n",
    "* z = 0.1的效果為本次作業中最好，然而還是差於OLS"
   ]
  }
 ],
 "metadata": {
  "colab": {
   "collapsed_sections": [],
   "name": "hw4_qonlyv3.ipynb",
   "provenance": [],
   "toc_visible": true
  },
  "kernelspec": {
   "display_name": "Python 3",
   "language": "python",
   "name": "python3"
  },
  "language_info": {
   "codemirror_mode": {
    "name": "ipython",
    "version": 3
   },
   "file_extension": ".py",
   "mimetype": "text/x-python",
   "name": "python",
   "nbconvert_exporter": "python",
   "pygments_lexer": "ipython3",
   "version": "3.7.9"
  }
 },
 "nbformat": 4,
 "nbformat_minor": 4
}
