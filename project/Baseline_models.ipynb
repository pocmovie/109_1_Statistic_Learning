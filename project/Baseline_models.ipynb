{
 "cells": [
  {
   "cell_type": "code",
   "execution_count": 2,
   "metadata": {},
   "outputs": [],
   "source": [
    "import numpy as np\n",
    "import pandas as pd\n",
    "\n",
    "train = pd.read_json(\"./subtrain_df.json\")\n",
    "valid = pd.read_json(\"./valid_df.json\")\n",
    "test = pd.read_json(\"./test_df.json\")"
   ]
  },
  {
   "cell_type": "code",
   "execution_count": 3,
   "metadata": {},
   "outputs": [
    {
     "data": {
      "text/html": [
       "<div>\n",
       "<style scoped>\n",
       "    .dataframe tbody tr th:only-of-type {\n",
       "        vertical-align: middle;\n",
       "    }\n",
       "\n",
       "    .dataframe tbody tr th {\n",
       "        vertical-align: top;\n",
       "    }\n",
       "\n",
       "    .dataframe thead th {\n",
       "        text-align: right;\n",
       "    }\n",
       "</style>\n",
       "<table border=\"1\" class=\"dataframe\">\n",
       "  <thead>\n",
       "    <tr style=\"text-align: right;\">\n",
       "      <th></th>\n",
       "      <th>hotel_name</th>\n",
       "      <th>room_type</th>\n",
       "      <th>烤箱</th>\n",
       "      <th>戶外傢俱</th>\n",
       "      <th>高樓層（有電梯）</th>\n",
       "      <th>床邊插座</th>\n",
       "      <th>微波爐</th>\n",
       "      <th>防過敏</th>\n",
       "      <th>額外的廁所</th>\n",
       "      <th>兒童書籍、DVD 或音樂</th>\n",
       "      <th>...</th>\n",
       "      <th>hotel_type_經濟型飯店</th>\n",
       "      <th>hotel_type_膠囊旅館</th>\n",
       "      <th>hotel_type_青年旅館</th>\n",
       "      <th>hotel_type_飯店</th>\n",
       "      <th>hotel_type_飯店式公寓</th>\n",
       "      <th>traffic_spot</th>\n",
       "      <th>atraction_spot</th>\n",
       "      <th>traffic_min_dist</th>\n",
       "      <th>atraction_min_dist</th>\n",
       "      <th>hotel_id</th>\n",
       "    </tr>\n",
       "  </thead>\n",
       "  <tbody>\n",
       "    <tr>\n",
       "      <th>0</th>\n",
       "      <td>191旅店- 寧夏分館</td>\n",
       "      <td>標準雙人房</td>\n",
       "      <td>0</td>\n",
       "      <td>0</td>\n",
       "      <td>1</td>\n",
       "      <td>1</td>\n",
       "      <td>1</td>\n",
       "      <td>0</td>\n",
       "      <td>1</td>\n",
       "      <td>0</td>\n",
       "      <td>...</td>\n",
       "      <td>0</td>\n",
       "      <td>0</td>\n",
       "      <td>0</td>\n",
       "      <td>0</td>\n",
       "      <td>0</td>\n",
       "      <td>捷運中山站</td>\n",
       "      <td>寧夏夜市</td>\n",
       "      <td>0.7</td>\n",
       "      <td>0.1</td>\n",
       "      <td>127</td>\n",
       "    </tr>\n",
       "    <tr>\n",
       "      <th>1</th>\n",
       "      <td>191旅店- 寧夏分館</td>\n",
       "      <td>標準雙人房－無窗</td>\n",
       "      <td>0</td>\n",
       "      <td>0</td>\n",
       "      <td>1</td>\n",
       "      <td>1</td>\n",
       "      <td>1</td>\n",
       "      <td>0</td>\n",
       "      <td>1</td>\n",
       "      <td>0</td>\n",
       "      <td>...</td>\n",
       "      <td>0</td>\n",
       "      <td>0</td>\n",
       "      <td>0</td>\n",
       "      <td>0</td>\n",
       "      <td>0</td>\n",
       "      <td>捷運中山站</td>\n",
       "      <td>寧夏夜市</td>\n",
       "      <td>0.7</td>\n",
       "      <td>0.1</td>\n",
       "      <td>127</td>\n",
       "    </tr>\n",
       "    <tr>\n",
       "      <th>2</th>\n",
       "      <td>191旅店- 寧夏分館</td>\n",
       "      <td>經濟雙人房－無窗</td>\n",
       "      <td>0</td>\n",
       "      <td>0</td>\n",
       "      <td>1</td>\n",
       "      <td>1</td>\n",
       "      <td>1</td>\n",
       "      <td>0</td>\n",
       "      <td>1</td>\n",
       "      <td>0</td>\n",
       "      <td>...</td>\n",
       "      <td>0</td>\n",
       "      <td>0</td>\n",
       "      <td>0</td>\n",
       "      <td>0</td>\n",
       "      <td>0</td>\n",
       "      <td>捷運中山站</td>\n",
       "      <td>寧夏夜市</td>\n",
       "      <td>0.7</td>\n",
       "      <td>0.1</td>\n",
       "      <td>127</td>\n",
       "    </tr>\n",
       "    <tr>\n",
       "      <th>3</th>\n",
       "      <td>191旅店- 寧夏分館</td>\n",
       "      <td>商務雙人或雙床房</td>\n",
       "      <td>0</td>\n",
       "      <td>0</td>\n",
       "      <td>1</td>\n",
       "      <td>1</td>\n",
       "      <td>1</td>\n",
       "      <td>0</td>\n",
       "      <td>1</td>\n",
       "      <td>0</td>\n",
       "      <td>...</td>\n",
       "      <td>0</td>\n",
       "      <td>0</td>\n",
       "      <td>0</td>\n",
       "      <td>0</td>\n",
       "      <td>0</td>\n",
       "      <td>捷運中山站</td>\n",
       "      <td>寧夏夜市</td>\n",
       "      <td>0.7</td>\n",
       "      <td>0.1</td>\n",
       "      <td>127</td>\n",
       "    </tr>\n",
       "    <tr>\n",
       "      <th>4</th>\n",
       "      <td>191旅店- 寧夏分館</td>\n",
       "      <td>商務雙人或雙床房－無窗</td>\n",
       "      <td>0</td>\n",
       "      <td>0</td>\n",
       "      <td>1</td>\n",
       "      <td>1</td>\n",
       "      <td>1</td>\n",
       "      <td>0</td>\n",
       "      <td>1</td>\n",
       "      <td>0</td>\n",
       "      <td>...</td>\n",
       "      <td>0</td>\n",
       "      <td>0</td>\n",
       "      <td>0</td>\n",
       "      <td>0</td>\n",
       "      <td>0</td>\n",
       "      <td>捷運中山站</td>\n",
       "      <td>寧夏夜市</td>\n",
       "      <td>0.7</td>\n",
       "      <td>0.1</td>\n",
       "      <td>127</td>\n",
       "    </tr>\n",
       "  </tbody>\n",
       "</table>\n",
       "<p>5 rows × 149 columns</p>\n",
       "</div>"
      ],
      "text/plain": [
       "    hotel_name    room_type  烤箱  戶外傢俱  高樓層（有電梯）  床邊插座  微波爐  防過敏  額外的廁所  \\\n",
       "0  191旅店- 寧夏分館        標準雙人房   0     0         1     1    1    0      1   \n",
       "1  191旅店- 寧夏分館     標準雙人房－無窗   0     0         1     1    1    0      1   \n",
       "2  191旅店- 寧夏分館     經濟雙人房－無窗   0     0         1     1    1    0      1   \n",
       "3  191旅店- 寧夏分館     商務雙人或雙床房   0     0         1     1    1    0      1   \n",
       "4  191旅店- 寧夏分館  商務雙人或雙床房－無窗   0     0         1     1    1    0      1   \n",
       "\n",
       "   兒童書籍、DVD 或音樂  ...  hotel_type_經濟型飯店  hotel_type_膠囊旅館  hotel_type_青年旅館  \\\n",
       "0             0  ...                 0                0                0   \n",
       "1             0  ...                 0                0                0   \n",
       "2             0  ...                 0                0                0   \n",
       "3             0  ...                 0                0                0   \n",
       "4             0  ...                 0                0                0   \n",
       "\n",
       "   hotel_type_飯店  hotel_type_飯店式公寓  traffic_spot  atraction_spot  \\\n",
       "0              0                 0         捷運中山站            寧夏夜市   \n",
       "1              0                 0         捷運中山站            寧夏夜市   \n",
       "2              0                 0         捷運中山站            寧夏夜市   \n",
       "3              0                 0         捷運中山站            寧夏夜市   \n",
       "4              0                 0         捷運中山站            寧夏夜市   \n",
       "\n",
       "   traffic_min_dist  atraction_min_dist  hotel_id  \n",
       "0               0.7                 0.1       127  \n",
       "1               0.7                 0.1       127  \n",
       "2               0.7                 0.1       127  \n",
       "3               0.7                 0.1       127  \n",
       "4               0.7                 0.1       127  \n",
       "\n",
       "[5 rows x 149 columns]"
      ]
     },
     "execution_count": 3,
     "metadata": {},
     "output_type": "execute_result"
    }
   ],
   "source": [
    "train.head()"
   ]
  },
  {
   "cell_type": "markdown",
   "metadata": {},
   "source": [
    "* 丟掉不會拿來進行預測的Features"
   ]
  },
  {
   "cell_type": "code",
   "execution_count": 4,
   "metadata": {},
   "outputs": [],
   "source": [
    "train = train.drop(['hotel_name','room_type','hotel_id','traffic_spot','atraction_spot'], axis=1)\n",
    "valid = valid.drop(['hotel_name','room_type','hotel_id','traffic_spot','atraction_spot'], axis=1)\n",
    "test = test.drop(['hotel_name','room_type','hotel_id','traffic_spot','atraction_spot'], axis=1)"
   ]
  },
  {
   "cell_type": "code",
   "execution_count": 5,
   "metadata": {},
   "outputs": [
    {
     "data": {
      "text/html": [
       "<div>\n",
       "<style scoped>\n",
       "    .dataframe tbody tr th:only-of-type {\n",
       "        vertical-align: middle;\n",
       "    }\n",
       "\n",
       "    .dataframe tbody tr th {\n",
       "        vertical-align: top;\n",
       "    }\n",
       "\n",
       "    .dataframe thead th {\n",
       "        text-align: right;\n",
       "    }\n",
       "</style>\n",
       "<table border=\"1\" class=\"dataframe\">\n",
       "  <thead>\n",
       "    <tr style=\"text-align: right;\">\n",
       "      <th></th>\n",
       "      <th>烤箱</th>\n",
       "      <th>戶外傢俱</th>\n",
       "      <th>高樓層（有電梯）</th>\n",
       "      <th>床邊插座</th>\n",
       "      <th>微波爐</th>\n",
       "      <th>防過敏</th>\n",
       "      <th>額外的廁所</th>\n",
       "      <th>兒童書籍、DVD 或音樂</th>\n",
       "      <th>廁所</th>\n",
       "      <th>浴缸</th>\n",
       "      <th>...</th>\n",
       "      <th>hotel_type_旅館</th>\n",
       "      <th>hotel_type_民宿</th>\n",
       "      <th>hotel_type_汽車旅館</th>\n",
       "      <th>hotel_type_經濟型飯店</th>\n",
       "      <th>hotel_type_膠囊旅館</th>\n",
       "      <th>hotel_type_青年旅館</th>\n",
       "      <th>hotel_type_飯店</th>\n",
       "      <th>hotel_type_飯店式公寓</th>\n",
       "      <th>traffic_min_dist</th>\n",
       "      <th>atraction_min_dist</th>\n",
       "    </tr>\n",
       "  </thead>\n",
       "  <tbody>\n",
       "    <tr>\n",
       "      <th>0</th>\n",
       "      <td>0</td>\n",
       "      <td>0</td>\n",
       "      <td>1</td>\n",
       "      <td>1</td>\n",
       "      <td>1</td>\n",
       "      <td>0</td>\n",
       "      <td>1</td>\n",
       "      <td>0</td>\n",
       "      <td>1</td>\n",
       "      <td>0</td>\n",
       "      <td>...</td>\n",
       "      <td>1</td>\n",
       "      <td>0</td>\n",
       "      <td>0</td>\n",
       "      <td>0</td>\n",
       "      <td>0</td>\n",
       "      <td>0</td>\n",
       "      <td>0</td>\n",
       "      <td>0</td>\n",
       "      <td>0.7</td>\n",
       "      <td>0.1</td>\n",
       "    </tr>\n",
       "    <tr>\n",
       "      <th>1</th>\n",
       "      <td>0</td>\n",
       "      <td>0</td>\n",
       "      <td>1</td>\n",
       "      <td>1</td>\n",
       "      <td>1</td>\n",
       "      <td>0</td>\n",
       "      <td>1</td>\n",
       "      <td>0</td>\n",
       "      <td>1</td>\n",
       "      <td>0</td>\n",
       "      <td>...</td>\n",
       "      <td>1</td>\n",
       "      <td>0</td>\n",
       "      <td>0</td>\n",
       "      <td>0</td>\n",
       "      <td>0</td>\n",
       "      <td>0</td>\n",
       "      <td>0</td>\n",
       "      <td>0</td>\n",
       "      <td>0.7</td>\n",
       "      <td>0.1</td>\n",
       "    </tr>\n",
       "    <tr>\n",
       "      <th>2</th>\n",
       "      <td>0</td>\n",
       "      <td>0</td>\n",
       "      <td>1</td>\n",
       "      <td>1</td>\n",
       "      <td>1</td>\n",
       "      <td>0</td>\n",
       "      <td>1</td>\n",
       "      <td>0</td>\n",
       "      <td>1</td>\n",
       "      <td>0</td>\n",
       "      <td>...</td>\n",
       "      <td>1</td>\n",
       "      <td>0</td>\n",
       "      <td>0</td>\n",
       "      <td>0</td>\n",
       "      <td>0</td>\n",
       "      <td>0</td>\n",
       "      <td>0</td>\n",
       "      <td>0</td>\n",
       "      <td>0.7</td>\n",
       "      <td>0.1</td>\n",
       "    </tr>\n",
       "    <tr>\n",
       "      <th>3</th>\n",
       "      <td>0</td>\n",
       "      <td>0</td>\n",
       "      <td>1</td>\n",
       "      <td>1</td>\n",
       "      <td>1</td>\n",
       "      <td>0</td>\n",
       "      <td>1</td>\n",
       "      <td>0</td>\n",
       "      <td>1</td>\n",
       "      <td>0</td>\n",
       "      <td>...</td>\n",
       "      <td>1</td>\n",
       "      <td>0</td>\n",
       "      <td>0</td>\n",
       "      <td>0</td>\n",
       "      <td>0</td>\n",
       "      <td>0</td>\n",
       "      <td>0</td>\n",
       "      <td>0</td>\n",
       "      <td>0.7</td>\n",
       "      <td>0.1</td>\n",
       "    </tr>\n",
       "    <tr>\n",
       "      <th>4</th>\n",
       "      <td>0</td>\n",
       "      <td>0</td>\n",
       "      <td>1</td>\n",
       "      <td>1</td>\n",
       "      <td>1</td>\n",
       "      <td>0</td>\n",
       "      <td>1</td>\n",
       "      <td>0</td>\n",
       "      <td>1</td>\n",
       "      <td>0</td>\n",
       "      <td>...</td>\n",
       "      <td>1</td>\n",
       "      <td>0</td>\n",
       "      <td>0</td>\n",
       "      <td>0</td>\n",
       "      <td>0</td>\n",
       "      <td>0</td>\n",
       "      <td>0</td>\n",
       "      <td>0</td>\n",
       "      <td>0.7</td>\n",
       "      <td>0.1</td>\n",
       "    </tr>\n",
       "  </tbody>\n",
       "</table>\n",
       "<p>5 rows × 144 columns</p>\n",
       "</div>"
      ],
      "text/plain": [
       "   烤箱  戶外傢俱  高樓層（有電梯）  床邊插座  微波爐  防過敏  額外的廁所  兒童書籍、DVD 或音樂  廁所  浴缸  ...  \\\n",
       "0   0     0         1     1    1    0      1             0   1   0  ...   \n",
       "1   0     0         1     1    1    0      1             0   1   0  ...   \n",
       "2   0     0         1     1    1    0      1             0   1   0  ...   \n",
       "3   0     0         1     1    1    0      1             0   1   0  ...   \n",
       "4   0     0         1     1    1    0      1             0   1   0  ...   \n",
       "\n",
       "   hotel_type_旅館  hotel_type_民宿  hotel_type_汽車旅館  hotel_type_經濟型飯店  \\\n",
       "0              1              0                0                 0   \n",
       "1              1              0                0                 0   \n",
       "2              1              0                0                 0   \n",
       "3              1              0                0                 0   \n",
       "4              1              0                0                 0   \n",
       "\n",
       "   hotel_type_膠囊旅館  hotel_type_青年旅館  hotel_type_飯店  hotel_type_飯店式公寓  \\\n",
       "0                0                0              0                 0   \n",
       "1                0                0              0                 0   \n",
       "2                0                0              0                 0   \n",
       "3                0                0              0                 0   \n",
       "4                0                0              0                 0   \n",
       "\n",
       "   traffic_min_dist  atraction_min_dist  \n",
       "0               0.7                 0.1  \n",
       "1               0.7                 0.1  \n",
       "2               0.7                 0.1  \n",
       "3               0.7                 0.1  \n",
       "4               0.7                 0.1  \n",
       "\n",
       "[5 rows x 144 columns]"
      ]
     },
     "execution_count": 5,
     "metadata": {},
     "output_type": "execute_result"
    }
   ],
   "source": [
    "train.head()"
   ]
  },
  {
   "cell_type": "markdown",
   "metadata": {},
   "source": [
    "* 將train, valid, test data轉為np格式供訓練"
   ]
  },
  {
   "cell_type": "code",
   "execution_count": 6,
   "metadata": {},
   "outputs": [],
   "source": [
    "x_train = np.array(train.drop(['y_norm','y_orig'], axis=1))\n",
    "y_train_o = np.array(train['y_orig'])\n",
    "y_train_n = np.array(train['y_norm'])\n",
    "\n",
    "x_valid = np.array(valid.drop(['y_norm','y_orig'], axis=1))\n",
    "y_valid_o = np.array(valid['y_orig'])\n",
    "y_valid_n = np.array(valid['y_norm'])\n",
    "\n",
    "x_test = np.array(test.drop(['y_norm','y_orig'], axis=1))\n",
    "y_test_o = np.array(test['y_orig'])\n",
    "y_test_n = np.array(test['y_norm'])"
   ]
  },
  {
   "cell_type": "code",
   "execution_count": 8,
   "metadata": {},
   "outputs": [
    {
     "name": "stdout",
     "output_type": "stream",
     "text": [
      "(1884, 142)\n",
      "(1884,)\n",
      "(1884,)\n",
      "(408, 142)\n",
      "(408,)\n",
      "(408,)\n",
      "(353, 142)\n",
      "(353,)\n",
      "(353,)\n"
     ]
    }
   ],
   "source": [
    "print(x_train.shape)\n",
    "print(y_train_o.shape)\n",
    "print(y_train_n.shape)\n",
    "print(x_valid.shape)\n",
    "print(y_valid_o.shape)\n",
    "print(y_valid_n.shape)\n",
    "print(x_test.shape)\n",
    "print(y_test_o.shape)\n",
    "print(y_test_n.shape)"
   ]
  },
  {
   "cell_type": "markdown",
   "metadata": {},
   "source": [
    "* trainAll為train+valid set"
   ]
  },
  {
   "cell_type": "code",
   "execution_count": 9,
   "metadata": {},
   "outputs": [],
   "source": [
    "x_trainAll = np.concatenate((x_train, x_valid))\n",
    "y_trainAll_o = np.concatenate((y_train_o, y_valid_o))\n",
    "y_trainAll_n = np.concatenate((y_train_n, y_valid_n))"
   ]
  },
  {
   "cell_type": "markdown",
   "metadata": {},
   "source": [
    "## Regression Baseline\n",
    "* 每一算法都先tune lambda/ nest，再進行一次訓練"
   ]
  },
  {
   "cell_type": "markdown",
   "metadata": {},
   "source": [
    "#### Ordinary Least Squares"
   ]
  },
  {
   "cell_type": "code",
   "execution_count": 10,
   "metadata": {},
   "outputs": [],
   "source": [
    "from sklearn import linear_model\n",
    "reg = linear_model.LinearRegression().fit(x_trainAll, y_trainAll_o)\n",
    "y_pred = reg.predict(x_test)"
   ]
  },
  {
   "cell_type": "code",
   "execution_count": 11,
   "metadata": {},
   "outputs": [
    {
     "name": "stdout",
     "output_type": "stream",
     "text": [
      "y_orig Test RMSE: 64485411900.396164\n",
      "bed_4 個上下舖床位 605785446100.7738\n",
      "bed_1張床位 605785446100.8031\n",
      "hotel_type_家庭旅館 605785446100.8995\n",
      "bed_3 張日式床舖 605785446100.9185\n",
      "bed_2 張日式床舖 605785446101.0309\n",
      "hotel_type_經濟型飯店 605785446101.1456\n",
      "hotel_type_度假屋 605785446101.1458\n",
      "hotel_type_民宿 605785446101.1965\n",
      "bed_6 個上下舖床位 605785446101.8812\n",
      "bed_6 張日式床舖 605785446102.5873\n"
     ]
    }
   ],
   "source": [
    "difference = (np.array(y_pred)-y_test_o)**2\n",
    "RMSE = np.sqrt(np.mean(difference))\n",
    "print('y_orig Test RMSE:',RMSE)\n",
    "\n",
    "absCoef = abs(reg.coef_)\n",
    "maxCoef = absCoef.argsort()[-10:]\n",
    "\n",
    "for m in maxCoef:\n",
    "    print(x.columns[m], reg.coef_[m])"
   ]
  },
  {
   "cell_type": "code",
   "execution_count": 48,
   "metadata": {},
   "outputs": [],
   "source": [
    "reg = linear_model.LinearRegression().fit(x_trainAll, y_trainAll_n)\n",
    "y_pred = reg.predict(x_test)"
   ]
  },
  {
   "cell_type": "code",
   "execution_count": 49,
   "metadata": {},
   "outputs": [
    {
     "name": "stdout",
     "output_type": "stream",
     "text": [
      "y_norm Test RMSE: 50713581846.53957\n",
      "hotel_type_民宿 476410848544.4341\n",
      "hotel_type_旅館 476410848544.45166\n",
      "bed_3 張加大雙人床 476410848544.47504\n",
      "bed_2 張日式床舖 476410848544.5203\n",
      "bed_3 張日式床舖 476410848544.6087\n",
      "hotel_type_家庭旅館 476410848544.67456\n",
      "hotel_type_飯店式公寓 476410848544.70123\n",
      "hotel_type_B&B 476410848544.9535\n",
      "bed_6 個上下舖床位 476410848545.33746\n",
      "bed_6 張日式床舖 476410848545.7952\n"
     ]
    }
   ],
   "source": [
    "difference = (np.array(y_pred)-y_test_n)**2\n",
    "RMSE = np.sqrt(np.mean(difference))\n",
    "print('y_norm Test RMSE:',RMSE)\n",
    "\n",
    "absCoef = abs(reg.coef_)\n",
    "maxCoef = absCoef.argsort()[-10:]\n",
    "\n",
    "for m in maxCoef:\n",
    "    print(x.columns[m], reg.coef_[m])"
   ]
  },
  {
   "cell_type": "markdown",
   "metadata": {},
   "source": [
    "#### Ridge regression"
   ]
  },
  {
   "cell_type": "code",
   "execution_count": 52,
   "metadata": {},
   "outputs": [
    {
     "name": "stdout",
     "output_type": "stream",
     "text": [
      "The best alpha is: 2 which has y_orig valid RMSE = 1.4223673681547462\n"
     ]
    }
   ],
   "source": [
    "lambda_list = [0.0001, 0.0005, 0.001, 0.005, 0.01, 0.05, 0.1, 0.5, 1, 2]\n",
    "\n",
    "besta = lambda_list[0]\n",
    "best_RMSE = float(\"inf\")\n",
    "for l in lambda_list:\n",
    "    # Fit and test\n",
    "    reg = linear_model.Ridge(alpha=l).fit(x_train, y_train_o)\n",
    "    y_pred = reg.predict(x_valid)\n",
    "    # Count RMSE\n",
    "    difference = (np.array(y_pred)-y_valid_o)**2\n",
    "    RMSE = np.sqrt(np.mean(difference))\n",
    "    \n",
    "    if RMSE < best_RMSE:\n",
    "        besta = l\n",
    "        best_RMSE = RMSE\n",
    "print(\"The best alpha is:\", besta, \"which has y_orig valid RMSE =\", best_RMSE)"
   ]
  },
  {
   "cell_type": "code",
   "execution_count": 53,
   "metadata": {},
   "outputs": [
    {
     "name": "stdout",
     "output_type": "stream",
     "text": [
      "y_orig Test RMSE: 1.3134419698394422\n",
      "bed_6 個上下舖床位 0.4499927019146852\n",
      "筆記型電腦 0.45725475827759876\n",
      "電熱毯 -0.5073336937258567\n",
      "hotel_type_民宿 0.5780636581802316\n",
      "完全獨立 0.6191836173683094\n",
      "bed_6 張日式床舖 0.6952866778815955\n",
      "hotel_type_公寓 -0.7155801995415734\n",
      "bed_4 張雙人床 -1.1099291967311513\n",
      "bed_3 張雙人床 -1.1877140984799286\n",
      "bed_6 張單人床 -1.6998355149904276\n"
     ]
    }
   ],
   "source": [
    "reg = linear_model.Ridge(alpha=besta).fit(x_trainAll, y_trainAll_o)\n",
    "y_pred = reg.predict(x_test)\n",
    "difference = (np.array(y_pred)-y_test_o)**2\n",
    "RMSE = np.sqrt(np.mean(difference))\n",
    "print('y_orig Test RMSE:',RMSE)\n",
    "\n",
    "absCoef = abs(reg.coef_)\n",
    "maxCoef = absCoef.argsort()[-10:]\n",
    "\n",
    "for m in maxCoef:\n",
    "    print(x.columns[m], reg.coef_[m])"
   ]
  },
  {
   "cell_type": "code",
   "execution_count": 26,
   "metadata": {},
   "outputs": [
    {
     "name": "stdout",
     "output_type": "stream",
     "text": [
      "The best alpha is: 2 which has y_norm valid RMSE = 1.0252142483234268\n"
     ]
    }
   ],
   "source": [
    "besta = lambda_list[0]\n",
    "best_RMSE = float(\"inf\")\n",
    "for l in lambda_list:\n",
    "    # Fit and test\n",
    "    reg = linear_model.Ridge(alpha=l).fit(x_train, y_train_n)\n",
    "    y_pred = reg.predict(x_valid)\n",
    "    # Count RMSE\n",
    "    difference = (np.array(y_pred)-y_valid_n)**2\n",
    "    RMSE = np.sqrt(np.mean(difference))\n",
    "    \n",
    "    if RMSE < best_RMSE:\n",
    "        besta = l\n",
    "        best_RMSE = RMSE\n",
    "print(\"The best alpha is:\", besta, \"which has y_norm valid RMSE =\", best_RMSE)"
   ]
  },
  {
   "cell_type": "code",
   "execution_count": 27,
   "metadata": {},
   "outputs": [
    {
     "name": "stdout",
     "output_type": "stream",
     "text": [
      "y_norm Test RMSE: 1.1978947980159234\n",
      "完全獨立 0.3640310753911904\n",
      "hotel_type_飯店式公寓 0.3673540719843122\n",
      "bed_6 個上下舖床位 0.36945013754053524\n",
      "hotel_type_膠囊旅館 -0.459535696731111\n",
      "兒童書籍、DVD 或音樂 -0.49056567798963885\n",
      "電動遊戲 -0.4921681339891018\n",
      "bed_6 張日式床舖 0.522509687464184\n",
      "bed_4 張雙人床 -0.7226513290087895\n",
      "bed_3 張雙人床 -0.9322394483728533\n",
      "bed_6 張單人床 -1.4102405373384326\n"
     ]
    }
   ],
   "source": [
    "reg = linear_model.Ridge(alpha=besta).fit(x_trainAll, y_trainAll_n)\n",
    "y_pred = reg.predict(x_test)\n",
    "difference = (np.array(y_pred)-y_test_n)**2\n",
    "RMSE = np.sqrt(np.mean(difference))\n",
    "print('y_norm Test RMSE:',RMSE)\n",
    "\n",
    "absCoef = abs(reg.coef_)\n",
    "maxCoef = absCoef.argsort()[-10:]\n",
    "\n",
    "for m in maxCoef:\n",
    "    print(x.columns[m], reg.coef_[m])"
   ]
  },
  {
   "cell_type": "markdown",
   "metadata": {},
   "source": [
    "#### Lasso Regression"
   ]
  },
  {
   "cell_type": "code",
   "execution_count": 65,
   "metadata": {},
   "outputs": [
    {
     "name": "stdout",
     "output_type": "stream",
     "text": [
      "The best alpha is: 0.1 which has y_orig valid RMSE = 0.9729296673164382\n"
     ]
    }
   ],
   "source": [
    "besta = lambda_list[0]\n",
    "best_RMSE = float(\"inf\")\n",
    "for l in lambda_list:\n",
    "    # Fit and test\n",
    "    reg = linear_model.Lasso(alpha=l).fit(x_train, y_train_o)\n",
    "    y_pred = reg.predict(x_valid)\n",
    "    # Count RMSE\n",
    "    difference = (np.array(y_pred)-y_valid_o)**2\n",
    "    RMSE = np.sqrt(np.mean(difference))\n",
    "    \n",
    "    if RMSE < best_RMSE:\n",
    "        besta = l\n",
    "        best_RMSE = RMSE\n",
    "print(\"The best alpha is:\", besta, \"which has y_orig valid RMSE =\", best_RMSE)"
   ]
  },
  {
   "cell_type": "code",
   "execution_count": 66,
   "metadata": {},
   "outputs": [
    {
     "name": "stdout",
     "output_type": "stream",
     "text": [
      "y_orig Test RMSE: 0.9852690524678075\n",
      "建築物中的獨立公寓 0.0\n",
      "書桌 0.0\n",
      "摺疊床 0.0\n",
      "休息區 0.0\n",
      "地毯 0.0\n",
      "免費盥洗用品 -0.0\n",
      "沙發 0.0\n",
      "設有連通室 0.0\n",
      "燙衣設備 0.0\n",
      "atraction_min_dist -0.0\n"
     ]
    }
   ],
   "source": [
    "reg = linear_model.Lasso(alpha=besta).fit(x_trainAll, y_trainAll_o)\n",
    "y_pred = reg.predict(x_test)\n",
    "difference = (np.array(y_pred)-y_test_o)**2\n",
    "RMSE = np.sqrt(np.mean(difference))\n",
    "print('y_orig Test RMSE:',RMSE)\n",
    "\n",
    "absCoef = abs(reg.coef_)\n",
    "maxCoef = absCoef.argsort()[-10:]\n",
    "\n",
    "for m in maxCoef:\n",
    "    print(x.columns[m], reg.coef_[m])"
   ]
  },
  {
   "cell_type": "markdown",
   "metadata": {},
   "source": [
    "* Lasso表現好但是是在猜平均"
   ]
  },
  {
   "cell_type": "code",
   "execution_count": 63,
   "metadata": {},
   "outputs": [
    {
     "data": {
      "text/plain": [
       "8.350105303585426"
      ]
     },
     "execution_count": 63,
     "metadata": {},
     "output_type": "execute_result"
    }
   ],
   "source": [
    "### y_orig\n",
    "reg.intercept_"
   ]
  },
  {
   "cell_type": "code",
   "execution_count": 67,
   "metadata": {},
   "outputs": [
    {
     "data": {
      "text/plain": [
       "8.350105303585426"
      ]
     },
     "execution_count": 67,
     "metadata": {},
     "output_type": "execute_result"
    }
   ],
   "source": [
    "np.mean(y_trainAll_o)"
   ]
  },
  {
   "cell_type": "code",
   "execution_count": 57,
   "metadata": {},
   "outputs": [
    {
     "name": "stdout",
     "output_type": "stream",
     "text": [
      "The best alpha is: 0.05 which has y_norm valid RMSE = 0.8544247646537696\n"
     ]
    }
   ],
   "source": [
    "besta = lambda_list[0]\n",
    "best_RMSE = float(\"inf\")\n",
    "for l in lambda_list:\n",
    "    # Fit and test\n",
    "    reg = linear_model.Lasso(alpha=l).fit(x_train, y_train_n)\n",
    "    y_pred = reg.predict(x_valid)\n",
    "    # Count RMSE\n",
    "    difference = (np.array(y_pred)-y_valid_n)**2\n",
    "    RMSE = np.sqrt(np.mean(difference))\n",
    "    \n",
    "    if RMSE < best_RMSE:\n",
    "        besta = l\n",
    "        best_RMSE = RMSE\n",
    "print(\"The best alpha is:\", besta, \"which has y_norm valid RMSE =\", best_RMSE)"
   ]
  },
  {
   "cell_type": "code",
   "execution_count": 58,
   "metadata": {},
   "outputs": [
    {
     "name": "stdout",
     "output_type": "stream",
     "text": [
      "y_norm Test RMSE: 0.8524682315928703\n",
      "書桌 0.0\n",
      "燙衣設備 0.0\n",
      "摺疊床 -0.0\n",
      "休息區 -0.0\n",
      "地毯 -0.0\n",
      "免費盥洗用品 -0.0\n",
      "沙發 -0.0\n",
      "設有連通室 0.0\n",
      "私人入口 0.0\n",
      "traffic_min_dist 0.012731666726125425\n"
     ]
    }
   ],
   "source": [
    "reg = linear_model.Lasso(alpha=besta).fit(x_trainAll, y_trainAll_n)\n",
    "y_pred = reg.predict(x_test)\n",
    "difference = (np.array(y_pred)-y_test_n)**2\n",
    "RMSE = np.sqrt(np.mean(difference))\n",
    "print('y_norm Test RMSE:',RMSE)\n",
    "\n",
    "absCoef = abs(reg.coef_)\n",
    "maxCoef = absCoef.argsort()[-10:]\n",
    "\n",
    "for m in maxCoef:\n",
    "    print(x.columns[m], reg.coef_[m])"
   ]
  },
  {
   "cell_type": "markdown",
   "metadata": {},
   "source": [
    "* Lasso y_norm 也幾乎在猜平均"
   ]
  },
  {
   "cell_type": "code",
   "execution_count": 59,
   "metadata": {},
   "outputs": [
    {
     "data": {
      "text/plain": [
       "-0.016283161855369717"
      ]
     },
     "execution_count": 59,
     "metadata": {},
     "output_type": "execute_result"
    }
   ],
   "source": [
    "reg.intercept_"
   ]
  },
  {
   "cell_type": "code",
   "execution_count": 60,
   "metadata": {},
   "outputs": [
    {
     "data": {
      "text/plain": [
       "0.011335416698301485"
      ]
     },
     "execution_count": 60,
     "metadata": {},
     "output_type": "execute_result"
    }
   ],
   "source": [
    "np.mean(y_train_n)"
   ]
  },
  {
   "cell_type": "markdown",
   "metadata": {},
   "source": [
    "#### Random Forest Regressor"
   ]
  },
  {
   "cell_type": "code",
   "execution_count": 34,
   "metadata": {},
   "outputs": [],
   "source": [
    "from sklearn.ensemble import RandomForestRegressor\n",
    "\n",
    "t_grid = []\n",
    "d = np.power(1000/5, 1/9)\n",
    "for i in range(10):\n",
    "    t_grid.append(5*np.power(d,i)) # 5~1000, 10 points\n",
    "t_grid = list(map(int, t_grid)) # number of tree must be integer\n",
    "t_grid[-1] = 1000"
   ]
  },
  {
   "cell_type": "code",
   "execution_count": 35,
   "metadata": {},
   "outputs": [
    {
     "name": "stdout",
     "output_type": "stream",
     "text": [
      "The best nest is: 5 which has y_orig valid RMSE = 1.1042082889031268\n"
     ]
    }
   ],
   "source": [
    "best_nest = t_grid[0]\n",
    "best_RMSE = float(\"inf\")\n",
    "for t in t_grid:\n",
    "    regr = RandomForestRegressor(n_estimators=t, random_state=0).fit(x_train, y_train_o)\n",
    "    y_pred = regr.predict(x_valid)\n",
    "    # Count RMSE\n",
    "    difference = (np.array(y_pred)-y_valid_o)**2\n",
    "    RMSE = np.sqrt(np.mean(difference))\n",
    "    \n",
    "    if RMSE < best_RMSE:\n",
    "        besta = l\n",
    "        best_RMSE = RMSE\n",
    "print(\"The best nest is:\", best_nest, \"which has y_orig valid RMSE =\", best_RMSE)"
   ]
  },
  {
   "cell_type": "code",
   "execution_count": 36,
   "metadata": {},
   "outputs": [
    {
     "name": "stdout",
     "output_type": "stream",
     "text": [
      "y_orig Test RMSE: 1.2195369030249958\n",
      "暖氣 0.016540597951656737\n",
      "bed_2 張加大雙人床 0.016826964546281877\n",
      "bed_3 張雙人床 0.017189101355627033\n",
      "bed_4 張雙人床 0.01783307375379899\n",
      "bed_1 張雙人床 0.018400882815819784\n",
      "bed_2 張單人床 0.02686141303416347\n",
      "bed_2 張雙人床 0.039101388375049256\n",
      "traffic_min_dist 0.050861809089151055\n",
      "bed_1 張單人床 0.05587343610277318\n",
      "atraction_min_dist 0.07753272376861761\n"
     ]
    }
   ],
   "source": [
    "reg = RandomForestRegressor(n_estimators=best_nest, random_state=0).fit(x_trainAll, y_trainAll_o)\n",
    "y_pred = reg.predict(x_test)\n",
    "difference = (np.array(y_pred)-y_test_o)**2\n",
    "RMSE = np.sqrt(np.mean(difference))\n",
    "print('y_orig Test RMSE:',RMSE)\n",
    "\n",
    "absCoef = abs(reg.feature_importances_)\n",
    "maxCoef = absCoef.argsort()[-10:]\n",
    "\n",
    "for m in maxCoef:\n",
    "    print(x.columns[m], reg.feature_importances_[m])"
   ]
  },
  {
   "cell_type": "code",
   "execution_count": 37,
   "metadata": {},
   "outputs": [
    {
     "name": "stdout",
     "output_type": "stream",
     "text": [
      "The best nest is: 5 which has y_norm valid RMSE = 0.8605356601835166\n"
     ]
    }
   ],
   "source": [
    "best_nest = t_grid[0]\n",
    "best_RMSE = float(\"inf\")\n",
    "for t in t_grid:\n",
    "    regr = RandomForestRegressor(n_estimators=t, random_state=0).fit(x_train, y_train_n)\n",
    "    y_pred = regr.predict(x_valid)\n",
    "    # Count RMSE\n",
    "    difference = (np.array(y_pred)-y_valid_n)**2\n",
    "    RMSE = np.sqrt(np.mean(difference))\n",
    "    \n",
    "    if RMSE < best_RMSE:\n",
    "        besta = l\n",
    "        best_RMSE = RMSE\n",
    "print(\"The best nest is:\", best_nest, \"which has y_norm valid RMSE =\", best_RMSE)"
   ]
  },
  {
   "cell_type": "code",
   "execution_count": 39,
   "metadata": {},
   "outputs": [
    {
     "name": "stdout",
     "output_type": "stream",
     "text": [
      "y_norm Test RMSE: 1.1699233741834623\n",
      "景觀 0.013660282241453079\n",
      "bed_2 張加大雙人床 0.0163350998264643\n",
      "市景 0.01634205959109026\n",
      "沙發 0.018262554350095266\n",
      "淋浴間 0.025945496104376752\n",
      "bed_2 張單人床 0.034867322143810345\n",
      "bed_2 張雙人床 0.045080761014398577\n",
      "atraction_min_dist 0.06042336220699561\n",
      "bed_1 張單人床 0.06180874387997691\n",
      "traffic_min_dist 0.07244052820122501\n"
     ]
    }
   ],
   "source": [
    "reg = RandomForestRegressor(n_estimators=best_nest, random_state=0).fit(x_trainAll, y_trainAll_n)\n",
    "y_pred = reg.predict(x_test)\n",
    "difference = (np.array(y_pred)-y_test_n)**2\n",
    "RMSE = np.sqrt(np.mean(difference))\n",
    "print('y_norm Test RMSE:',RMSE)\n",
    "\n",
    "absCoef = abs(reg.feature_importances_)\n",
    "maxCoef = absCoef.argsort()[-10:]\n",
    "\n",
    "for m in maxCoef:\n",
    "    print(x.columns[m], reg.feature_importances_[m])"
   ]
  },
  {
   "cell_type": "markdown",
   "metadata": {},
   "source": [
    "#### Gradient Boosting Regressor"
   ]
  },
  {
   "cell_type": "code",
   "execution_count": 40,
   "metadata": {},
   "outputs": [
    {
     "name": "stdout",
     "output_type": "stream",
     "text": [
      "The best nest is: 5 which has y_orig valid RMSE = 0.9774975941898942\n"
     ]
    }
   ],
   "source": [
    "from sklearn.ensemble import GradientBoostingRegressor\n",
    "\n",
    "best_nest = t_grid[0]\n",
    "best_RMSE = float(\"inf\")\n",
    "for t in t_grid:\n",
    "    reg = GradientBoostingRegressor(n_estimators=t).fit(x_train, y_train_o)\n",
    "    y_pred = reg.predict(x_valid)\n",
    "    # Count RMSE\n",
    "    difference = (np.array(y_pred)-y_valid_o)**2\n",
    "    RMSE = np.sqrt(np.mean(difference))\n",
    "    \n",
    "    if RMSE < best_RMSE:\n",
    "        besta = l\n",
    "        best_RMSE = RMSE\n",
    "print(\"The best nest is:\", best_nest, \"which has y_orig valid RMSE =\", best_RMSE)"
   ]
  },
  {
   "cell_type": "code",
   "execution_count": 42,
   "metadata": {},
   "outputs": [
    {
     "name": "stdout",
     "output_type": "stream",
     "text": [
      "y_orig Test RMSE: 0.9968012494089667\n",
      "免費盥洗用品 0.04074560639181923\n",
      "SPA 浴缸 0.04747389889609607\n",
      "沖洗座 0.05271097596340403\n",
      "浴袍 0.06838499430465722\n",
      "加長床舖（超過兩公尺） 0.08697993613997394\n",
      "保險箱 0.09276705283513513\n",
      "床邊插座 0.09356082557448406\n",
      "bed_6 張單人床 0.09482344989841984\n",
      "暖氣 0.11341135774923702\n",
      "bed_4 張雙人床 0.17288728613920584\n"
     ]
    }
   ],
   "source": [
    "reg = GradientBoostingRegressor(n_estimators=best_nest).fit(x_trainAll, y_trainAll_o)\n",
    "y_pred = reg.predict(x_test)\n",
    "difference = (np.array(y_pred)-y_test_o)**2\n",
    "RMSE = np.sqrt(np.mean(difference))\n",
    "print('y_orig Test RMSE:',RMSE)\n",
    "\n",
    "absCoef = abs(reg.feature_importances_)\n",
    "maxCoef = absCoef.argsort()[-10:]\n",
    "\n",
    "for m in maxCoef:\n",
    "    print(x.columns[m], reg.feature_importances_[m])"
   ]
  },
  {
   "cell_type": "code",
   "execution_count": 43,
   "metadata": {},
   "outputs": [
    {
     "name": "stdout",
     "output_type": "stream",
     "text": [
      "The best nest is: 5 which has y_norm valid RMSE = 0.8574390878349061\n"
     ]
    }
   ],
   "source": [
    "best_nest = t_grid[0]\n",
    "best_RMSE = float(\"inf\")\n",
    "for t in t_grid:\n",
    "    reg = GradientBoostingRegressor(n_estimators=t).fit(x_train, y_train_n)\n",
    "    y_pred = reg.predict(x_valid)\n",
    "    # Count RMSE\n",
    "    difference = (np.array(y_pred)-y_valid_n)**2\n",
    "    RMSE = np.sqrt(np.mean(difference))\n",
    "    \n",
    "    if RMSE < best_RMSE:\n",
    "        besta = l\n",
    "        best_RMSE = RMSE\n",
    "print(\"The best nest is:\", best_nest, \"which has y_norm valid RMSE =\", best_RMSE)"
   ]
  },
  {
   "cell_type": "code",
   "execution_count": 44,
   "metadata": {},
   "outputs": [
    {
     "name": "stdout",
     "output_type": "stream",
     "text": [
      "y_norm valid Test RMSE: 1.1507761944573431\n",
      "traffic_min_dist 0.022720977319014363\n",
      "按次計費頻道 0.02489700467129529\n",
      "bed_2 張加大雙人床 0.02971051091883234\n",
      "手部消毒液 0.04820939268056184\n",
      "bed_4 張雙人床 0.04918329121670951\n",
      "atraction_min_dist 0.0708464932325348\n",
      "bed_3 張雙人床 0.0843806337623416\n",
      "電熱水壺 0.1798832124876483\n",
      "茶／咖啡沖泡設備 0.20522317085644107\n",
      "bed_6 張單人床 0.26255778946785513\n"
     ]
    }
   ],
   "source": [
    "reg = GradientBoostingRegressor(n_estimators=best_nest).fit(x_trainAll, y_trainAll_n)\n",
    "y_pred = reg.predict(x_test)\n",
    "difference = (np.array(y_pred)-y_test_n)**2\n",
    "RMSE = np.sqrt(np.mean(difference))\n",
    "print('y_norm valid Test RMSE:',RMSE)\n",
    "\n",
    "absCoef = abs(reg.feature_importances_)\n",
    "maxCoef = absCoef.argsort()[-10:]\n",
    "\n",
    "for m in maxCoef:\n",
    "    print(x.columns[m], reg.feature_importances_[m])"
   ]
  },
  {
   "cell_type": "code",
   "execution_count": null,
   "metadata": {},
   "outputs": [],
   "source": []
  }
 ],
 "metadata": {
  "kernelspec": {
   "display_name": "Python 3",
   "language": "python",
   "name": "python3"
  },
  "language_info": {
   "codemirror_mode": {
    "name": "ipython",
    "version": 3
   },
   "file_extension": ".py",
   "mimetype": "text/x-python",
   "name": "python",
   "nbconvert_exporter": "python",
   "pygments_lexer": "ipython3",
   "version": "3.7.9"
  }
 },
 "nbformat": 4,
 "nbformat_minor": 4
}
